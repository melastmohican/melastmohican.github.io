{
 "cells": [
  {
   "cell_type": "markdown",
   "metadata": {},
   "source": [
    "---\n",
    "title: \"macOS Defaults\"\n",
    "date: \"2022-12-03\"\n",
    "categories: [macos,config,admin,terminal,cli]\n",
    "---"
   ]
  },
  {
   "cell_type": "markdown",
   "metadata": {},
   "source": [
    "macOS applications and other programs use the defaults system to record user preferences and other information to be maintained when the application isn't running (font for new documents, or the position of an Info panel). Much of this information is accessible through an application's Preferences panel but sometimes they're hidden.\n",
    "User defaults belong to domains, which typically correspond to individual applications. Applications, system services, and other programs have their own domains, they also share a domain named NSGlobalDomain. If a default isn't specified in the application's domain, it may be specified in NSGlobalDomain."
   ]
  },
  {
   "cell_type": "markdown",
   "metadata": {},
   "source": [
    "### Print the help"
   ]
  },
  {
   "cell_type": "code",
   "execution_count": 1,
   "metadata": {
    "vscode": {
     "languageId": "shellscript"
    }
   },
   "outputs": [
    {
     "name": "stdout",
     "output_type": "stream",
     "text": [
      "Command line interface to a user's defaults.\n",
      "Syntax:\n",
      "\n",
      "'defaults' [-currentHost | -host <hostname>] followed by one of the following:\n",
      "\n",
      "  read                                 shows all defaults\n",
      "  read <domain>                        shows defaults for given domain\n",
      "  read <domain> <key>                  shows defaults for given domain, key\n",
      "\n",
      "  read-type <domain> <key>             shows the type for the given domain, key\n",
      "\n",
      "  write <domain> <domain_rep>          writes domain (overwrites existing)\n",
      "  write <domain> <key> <value>         writes key for domain\n",
      "\n",
      "  rename <domain> <old_key> <new_key>  renames old_key to new_key\n",
      "\n",
      "  delete <domain>                      deletes domain\n",
      "  delete <domain> <key>                deletes key in domain\n",
      "\n",
      "  import <domain> <path to plist>      writes the plist at path to domain\n",
      "  import <domain> -                    writes a plist from stdin to domain\n",
      "  export <domain> <path to plist>      saves domain as a binary plist to path\n",
      "  export <domain> -                    writes domain as an xml plist to stdout\n",
      "  domains                              lists all domains\n",
      "  find <word>                          lists all entries containing word\n",
      "  help                                 print this help\n",
      "\n",
      "<domain> is ( <domain_name> | -app <application_name> | -globalDomain )\n",
      "         or a path to a file omitting the '.plist' extension\n",
      "\n",
      "<value> is one of:\n",
      "  <value_rep>\n",
      "  -string <string_value>\n",
      "  -data <hex_digits>\n",
      "  -int[eger] <integer_value>\n",
      "  -float  <floating-point_value>\n",
      "  -bool[ean] (true | false | yes | no)\n",
      "  -date <date_rep>\n",
      "  -array <value1> <value2> ...\n",
      "  -array-add <value1> <value2> ...\n",
      "  -dict <key1> <value1> <key2> <value2> ...\n",
      "  -dict-add <key1> <value1> ...\n"
     ]
    }
   ],
   "source": [
    "defaults help"
   ]
  },
  {
   "cell_type": "markdown",
   "metadata": {},
   "source": [
    "### Read all defaults"
   ]
  },
  {
   "cell_type": "code",
   "execution_count": null,
   "metadata": {
    "vscode": {
     "languageId": "shellscript"
    }
   },
   "outputs": [],
   "source": [
    "defaults read"
   ]
  },
  {
   "cell_type": "markdown",
   "metadata": {},
   "source": [
    "### List all domains"
   ]
  },
  {
   "cell_type": "code",
   "execution_count": null,
   "metadata": {
    "vscode": {
     "languageId": "shellscript"
    }
   },
   "outputs": [],
   "source": [
    "defaults domains"
   ]
  },
  {
   "cell_type": "markdown",
   "metadata": {},
   "source": [
    "### All defaults by domain"
   ]
  },
  {
   "cell_type": "code",
   "execution_count": null,
   "metadata": {
    "vscode": {
     "languageId": "shellscript"
    }
   },
   "outputs": [],
   "source": [
    "for i in `defaults domains | tr ',' '\\n'`; do echo \"********* $i **********\"; echo; defaults read $i; done"
   ]
  },
  {
   "cell_type": "markdown",
   "metadata": {},
   "source": [
    "### List all entries containing word"
   ]
  },
  {
   "cell_type": "code",
   "execution_count": null,
   "metadata": {
    "vscode": {
     "languageId": "shellscript"
    }
   },
   "outputs": [],
   "source": [
    "defaults find Finder"
   ]
  },
  {
   "cell_type": "markdown",
   "metadata": {},
   "source": [
    "### Show the type for the given domain, key"
   ]
  },
  {
   "cell_type": "code",
   "execution_count": null,
   "metadata": {
    "vscode": {
     "languageId": "shellscript"
    }
   },
   "outputs": [],
   "source": [
    "defaults read-type ${domain} ${key}"
   ]
  },
  {
   "cell_type": "markdown",
   "metadata": {},
   "source": [
    "### Rename old_key to new_key"
   ]
  },
  {
   "cell_type": "code",
   "execution_count": null,
   "metadata": {
    "vscode": {
     "languageId": "shellscript"
    }
   },
   "outputs": [],
   "source": [
    "defaults rename ${domain} ${old_key} ${new_key}"
   ]
  },
  {
   "cell_type": "markdown",
   "metadata": {},
   "source": [
    "### Dock"
   ]
  },
  {
   "cell_type": "markdown",
   "metadata": {},
   "source": [
    "***Postition***"
   ]
  },
  {
   "cell_type": "code",
   "execution_count": null,
   "metadata": {
    "vscode": {
     "languageId": "shellscript"
    }
   },
   "outputs": [],
   "source": [
    "### Read current value\n",
    "defaults read com.apple.dock orientation\n",
    "### Set to \"left\"\n",
    "defaults write com.apple.dock orientation -string \"left\" && killall Dock\n",
    "### Reset to default value\n",
    "defaults delete com.apple.dock orientation && killall Dock"
   ]
  },
  {
   "cell_type": "markdown",
   "metadata": {},
   "source": [
    "***Change macOS Dock icon size***"
   ]
  },
  {
   "cell_type": "code",
   "execution_count": null,
   "metadata": {
    "vscode": {
     "languageId": "shellscript"
    }
   },
   "outputs": [],
   "source": [
    "### Read current value\n",
    "defaults read com.apple.dock tilesize\n",
    "### Set to 36\n",
    "defaults write com.apple.dock tilesize -int \"36\" && killall Dock\n",
    "### Reset to default value\n",
    "defaults delete com.apple.dock tilesize && killall Dock"
   ]
  },
  {
   "cell_type": "markdown",
   "metadata": {},
   "source": [
    "***Enable highlight hover effect for the grid view of a stack (Dock)***"
   ]
  },
  {
   "cell_type": "code",
   "execution_count": null,
   "metadata": {
    "vscode": {
     "languageId": "shellscript"
    }
   },
   "outputs": [],
   "source": [
    "### Read current value\n",
    "defaults read com.apple.dock mouse-over-hilite-stack\n",
    "### Set to true\n",
    "defaults write com.apple.dock mouse-over-hilite-stack -bool true && killall Dock\n",
    "### Reset to default value\n",
    "defaults delete com.apple.dock mouse-over-hilite-stack && killall Dock"
   ]
  },
  {
   "cell_type": "markdown",
   "metadata": {},
   "source": [
    "***Autohide***"
   ]
  },
  {
   "cell_type": "code",
   "execution_count": null,
   "metadata": {
    "vscode": {
     "languageId": "shellscript"
    }
   },
   "outputs": [],
   "source": [
    "### Read current value\n",
    "defaults read com.apple.dock \"autohide\"\n",
    "### Always display the Dock\n",
    "defaults write com.apple.dock \"autohide\" -bool \"false\" && killall Dock\n",
    "### Autohide the Dock when the mouse is out\n",
    "defaults write com.apple.dock \"autohide\" -bool \"true\" && killall Dock\n",
    "### Reset to default value\n",
    "defaults delete com.apple.dock \"autohide\" && killall Dock"
   ]
  },
  {
   "cell_type": "markdown",
   "metadata": {},
   "source": [
    "***Autohide animation time***"
   ]
  },
  {
   "cell_type": "code",
   "execution_count": null,
   "metadata": {
    "vscode": {
     "languageId": "shellscript"
    }
   },
   "outputs": [],
   "source": [
    "### Read current value\n",
    "defaults read com.apple.dock autohide-time-modifier\n",
    "### Set to 0.5 (default value)\n",
    "defaults write com.apple.dock autohide-time-modifier -float \"0.5\" && killall Dock\n",
    "### Reset to default value\n",
    "defaults delete com.apple.dock autohide-time-modifier && killall Dock"
   ]
  },
  {
   "cell_type": "markdown",
   "metadata": {},
   "source": [
    "***Show recents***"
   ]
  },
  {
   "cell_type": "code",
   "execution_count": null,
   "metadata": {
    "vscode": {
     "languageId": "shellscript"
    }
   },
   "outputs": [],
   "source": [
    "### Read current value\n",
    "defaults read com.apple.dock show-recents\n",
    "### Set to true (default value)\n",
    "defaults write com.apple.dock show-recents -bool \"true\" && killall Dock\n",
    "### Reset to default value\n",
    "defaults delete com.apple.dock show-recents && killall Dock"
   ]
  },
  {
   "cell_type": "markdown",
   "metadata": {},
   "source": [
    "***Disable the Launchpad gesture (pinch with thumb and three fingers)***"
   ]
  },
  {
   "cell_type": "code",
   "execution_count": null,
   "metadata": {
    "vscode": {
     "languageId": "shellscript"
    }
   },
   "outputs": [],
   "source": [
    "### Read current value\n",
    "defaults read com.apple.dock showLaunchpadGestureEnabled\n",
    "### Set to 0\n",
    "defaults write com.apple.dock showLaunchpadGestureEnabled -int 0 && killall Dock\n",
    "### Reset to default value\n",
    "defaults delete com.apple.dock showLaunchpadGestureEnabled && killall Dock"
   ]
  },
  {
   "cell_type": "markdown",
   "metadata": {},
   "source": [
    "***Add a spacer to the left side of the Dock (where the applications are)***"
   ]
  },
  {
   "cell_type": "code",
   "execution_count": null,
   "metadata": {
    "vscode": {
     "languageId": "shellscript"
    }
   },
   "outputs": [],
   "source": [
    "### Read current value\n",
    "defaults read com.apple.dock persistent-apps\n",
    "### Set to \n",
    "defaults write com.apple.dock persistent-apps -array-add '{tile-data={}; tile-type=\"spacer-tile\";}' && killall Dock\n",
    "### Reset to default value\n",
    "defaults delete com.apple.dock persistent-apps && killall Dock"
   ]
  },
  {
   "cell_type": "markdown",
   "metadata": {},
   "source": [
    "***Add a spacer to the right side of the Dock (where the Trash is)***"
   ]
  },
  {
   "cell_type": "code",
   "execution_count": null,
   "metadata": {
    "vscode": {
     "languageId": "shellscript"
    }
   },
   "outputs": [],
   "source": [
    "### Read current value\n",
    "defaults read com.apple.dock persistent-others\n",
    "### Set to \n",
    "defaults write com.apple.dock persistent-others -array-add '{tile-data={}; tile-type=\"spacer-tile\";}' && killall Dock\n",
    "### Reset to default value\n",
    "defaults delete com.apple.dock persistent-others && killall Dock"
   ]
  },
  {
   "cell_type": "markdown",
   "metadata": {},
   "source": [
    "***Hot corners***\n",
    "Possible values:\n",
    "0: no-op\n",
    "2: Mission Control\n",
    "3: Show application windows\n",
    "4: Desktop\n",
    "5: Start screen saver\n",
    "6: Disable screen saver\n",
    "7: Dashboard\n",
    "10: Put display to sleep\n",
    "11: Launchpad\n",
    "12: Notification Center\n",
    "13: Lock Screen"
   ]
  },
  {
   "cell_type": "markdown",
   "metadata": {},
   "source": [
    "***Top left screen corner → Mission Control***"
   ]
  },
  {
   "cell_type": "code",
   "execution_count": null,
   "metadata": {
    "vscode": {
     "languageId": "shellscript"
    }
   },
   "outputs": [],
   "source": [
    "### Read current value\n",
    "defaults read com.apple.dock wvous-tl-corner\n",
    "defaults read com.apple.dock wvous-tl-modifier\n",
    "### Set to \n",
    "defaults write com.apple.dock wvous-tl-corner -int 2\n",
    "defaults write com.apple.dock wvous-tl-modifier -int 0\n",
    "### Reset to default value\n",
    "defaults delete com.apple.dock wvous-tl-corner\n",
    "defaults delete com.apple.dock wvous-tl-modifier"
   ]
  },
  {
   "cell_type": "markdown",
   "metadata": {},
   "source": [
    "#***Top right screen corner → Desktop***"
   ]
  },
  {
   "cell_type": "code",
   "execution_count": null,
   "metadata": {
    "vscode": {
     "languageId": "shellscript"
    }
   },
   "outputs": [],
   "source": [
    "### Read current value\n",
    "defaults read com.apple.dock wvous-tr-corner\n",
    "defaults read com.apple.dock wvous-tr-modifier\n",
    "### Set to \n",
    "defaults write com.apple.dock wvous-tr-corner -int 4\n",
    "defaults write com.apple.dock wvous-tr-modifier -int 0\n",
    "### Reset to default value\n",
    "defaults delete com.apple.dock wvous-tr-corner\n",
    "defaults delete com.apple.dock wvous-tr-modifier"
   ]
  },
  {
   "cell_type": "markdown",
   "metadata": {},
   "source": [
    "***Bottom left screen corner → Start screen saver***\n"
   ]
  },
  {
   "cell_type": "code",
   "execution_count": null,
   "metadata": {
    "vscode": {
     "languageId": "shellscript"
    }
   },
   "outputs": [],
   "source": [
    "### Read current value\n",
    "defaults read com.apple.dock wvous-bl-corner\n",
    "defaults read com.apple.dock wvous-bl-modifier\n",
    "### Set to \n",
    "defaults write com.apple.dock wvous-bl-corner -int 5\n",
    "defaults write com.apple.dock wvous-bl-modifier -int 0\n",
    "### Reset to default value\n",
    "defaults delete com.apple.dock wvous-bl-corner\n",
    "defaults delete com.apple.dock wvous-bl-modifier"
   ]
  },
  {
   "cell_type": "markdown",
   "metadata": {},
   "source": [
    "***Minimize animation effect***"
   ]
  },
  {
   "cell_type": "code",
   "execution_count": null,
   "metadata": {
    "vscode": {
     "languageId": "shellscript"
    }
   },
   "outputs": [],
   "source": [
    "### Read current value\n",
    "defaults read com.apple.dock \"mineffect\"\n",
    "### Set to genie (default value)\n",
    "defaults write com.apple.dock \"mineffect\" -string \"genie\" && killall Dock\n",
    "### Set to scale\n",
    "defaults write com.apple.dock \"mineffect\" -string \"scale\" && killall Dock\n",
    "### Set to suck\n",
    "defaults write com.apple.dock \"mineffect\" -string \"suck\" && killall Dock\n",
    "### Reset to default value\n",
    "defaults delete com.apple.dock \"mineffect\" && killall Dock"
   ]
  },
  {
   "cell_type": "markdown",
   "metadata": {},
   "source": [
    "***Minimize windows into their application’s icon***"
   ]
  },
  {
   "cell_type": "code",
   "execution_count": null,
   "metadata": {
    "vscode": {
     "languageId": "shellscript"
    }
   },
   "outputs": [],
   "source": [
    "### Read current value\n",
    "defaults read com.apple.dock minimize-to-application\n",
    "### Set to true\n",
    "defaults write com.apple.dock minimize-to-application -bool true && killall Dock\n",
    "### Reset to default value\n",
    "defaults delete com.apple.dock minimize-to-application && killall Dock"
   ]
  },
  {
   "cell_type": "markdown",
   "metadata": {},
   "source": [
    "***Active applications only***\n",
    "Only show opened apps in Dock."
   ]
  },
  {
   "cell_type": "code",
   "execution_count": null,
   "metadata": {
    "vscode": {
     "languageId": "shellscript"
    }
   },
   "outputs": [],
   "source": [
    "### Read current value\n",
    "defaults read com.apple.dock \"static-only\"\n",
    "### Set to true\n",
    "defaults write com.apple.dock \"static-only\" -bool \"true\" && killall Dock\n",
    "### Reset to default value\n",
    "defaults delete com.apple.dock \"static-only\" && killall Dock"
   ]
  },
  {
   "cell_type": "markdown",
   "metadata": {},
   "source": [
    "***Don’t animate opening applications from the Dock***"
   ]
  },
  {
   "cell_type": "code",
   "execution_count": null,
   "metadata": {
    "vscode": {
     "languageId": "shellscript"
    }
   },
   "outputs": [],
   "source": [
    "### Read current value\n",
    "defaults read com.apple.dock launchanim\n",
    "### Set to false\n",
    "defaults write com.apple.dock launchanim -bool false && killall Dock\n",
    "### Reset to default value\n",
    "defaults delete com.apple.dock launchanim && killall Dock"
   ]
  },
  {
   "cell_type": "markdown",
   "metadata": {},
   "source": [
    "***Speed up Mission Control animations***"
   ]
  },
  {
   "cell_type": "code",
   "execution_count": null,
   "metadata": {
    "vscode": {
     "languageId": "shellscript"
    }
   },
   "outputs": [],
   "source": [
    "### Read current value\n",
    "defaults read com.apple.dock expose-animation-duration\n",
    "### Set to 0.1\n",
    "defaults write com.apple.dock expose-animation-duration -float 0.1 && killall Dock\n",
    "### Reset to default value\n",
    "defaults delete com.apple.dock expose-animation-duration && killall Dock"
   ]
  },
  {
   "cell_type": "markdown",
   "metadata": {},
   "source": [
    "***Don’t group windows by application in Mission Control***\n",
    "(i.e. use the old Exposé behavior instead)"
   ]
  },
  {
   "cell_type": "code",
   "execution_count": null,
   "metadata": {
    "vscode": {
     "languageId": "shellscript"
    }
   },
   "outputs": [],
   "source": [
    "### Read current value\n",
    "defaults read com.apple.dock expose-group-by-app\n",
    "### Set to false\n",
    "defaults write com.apple.dock expose-group-by-app -bool false && killall Dock\n",
    "### Reset to default value\n",
    "defaults delete com.apple.dock expose-group-by-app && killall Dock"
   ]
  },
  {
   "cell_type": "markdown",
   "metadata": {},
   "source": [
    "***Disable Dashboard***"
   ]
  },
  {
   "cell_type": "code",
   "execution_count": null,
   "metadata": {
    "vscode": {
     "languageId": "shellscript"
    }
   },
   "outputs": [],
   "source": [
    "### Read current value\n",
    "defaults read com.apple.dashboard mcx-disabled\n",
    "### Set to true\n",
    "defaults write com.apple.dashboard mcx-disabled -bool true\n",
    "### Reset to default value\n",
    "defaults delete com.apple.dashboard mcx-disabled"
   ]
  },
  {
   "cell_type": "markdown",
   "metadata": {},
   "source": [
    "***Don’t show Dashboard as a Space***"
   ]
  },
  {
   "cell_type": "code",
   "execution_count": null,
   "metadata": {
    "vscode": {
     "languageId": "shellscript"
    }
   },
   "outputs": [],
   "source": [
    "### Read current value\n",
    "defaults read com.apple.dock dashboard-in-overlay\n",
    "### Set to true\n",
    "defaults write com.apple.dock dashboard-in-overlay -bool true && killall Dock\n",
    "### Reset to default value\n",
    "defaults delete com.apple.dock dashboard-in-overlay && killall Dock"
   ]
  },
  {
   "cell_type": "markdown",
   "metadata": {},
   "source": [
    "***Don’t automatically rearrange Spaces based on most recent use***"
   ]
  },
  {
   "cell_type": "code",
   "execution_count": null,
   "metadata": {
    "vscode": {
     "languageId": "shellscript"
    }
   },
   "outputs": [],
   "source": [
    "### Read current value\n",
    "defaults read com.apple.dock mru-spaces\n",
    "### Set to false\n",
    "defaults write com.apple.dock mru-spaces -bool false && killall Dock\n",
    "### Reset to default value\n",
    "defaults delete com.apple.dock mru-spaces && killall Dock"
   ]
  },
  {
   "cell_type": "markdown",
   "metadata": {},
   "source": [
    "***Remove the auto-hiding Dock delay***"
   ]
  },
  {
   "cell_type": "code",
   "execution_count": null,
   "metadata": {
    "vscode": {
     "languageId": "shellscript"
    }
   },
   "outputs": [],
   "source": [
    "### Read current value\n",
    "defaults read com.apple.dock autohide-delay\n",
    "### Set to 0\n",
    "defaults write com.apple.dock autohide-delay -float 0 && killall Dock\n",
    "### Reset to default value\n",
    "defaults delete com.apple.dock autohide-delay && killall Dock"
   ]
  },
  {
   "cell_type": "markdown",
   "metadata": {},
   "source": [
    "***Make Dock icons of hidden applications translucent***"
   ]
  },
  {
   "cell_type": "code",
   "execution_count": null,
   "metadata": {
    "vscode": {
     "languageId": "shellscript"
    }
   },
   "outputs": [],
   "source": [
    "### Read current value\n",
    "defaults read com.apple.dock showhidden\n",
    "### Set to true\n",
    "defaults write com.apple.dock showhidden -bool true && killall Dock\n",
    "### Reset to default value\n",
    "defaults delete com.apple.dock showhidden && killall Dock"
   ]
  },
  {
   "cell_type": "markdown",
   "metadata": {},
   "source": [
    "***Two Dimensional Dock (disable the 3D mirror glass effect)***"
   ]
  },
  {
   "cell_type": "code",
   "execution_count": null,
   "metadata": {
    "vscode": {
     "languageId": "shellscript"
    }
   },
   "outputs": [],
   "source": [
    "### Read current value\n",
    "defaults read com.apple.dock no-glass\n",
    "### Set to true\n",
    "defaults write com.apple.dock no-glass -bool true && killall Dock\n",
    "### Reset to default value\n",
    "defaults delete com.apple.dock no-glass && killall Dock"
   ]
  },
  {
   "cell_type": "markdown",
   "metadata": {},
   "source": [
    "***Three Dimensional Dock (default)***"
   ]
  },
  {
   "cell_type": "code",
   "execution_count": null,
   "metadata": {
    "vscode": {
     "languageId": "shellscript"
    }
   },
   "outputs": [],
   "source": [
    "### Read current value\n",
    "defaults read com.apple.dock no-glass\n",
    "### Set to false\n",
    "defaults write com.apple.dock no-glass -bool false && killall Dock\n",
    "### Reset to default value\n",
    "defaults delete com.apple.dock no-glass && killall Dock"
   ]
  },
  {
   "cell_type": "markdown",
   "metadata": {},
   "source": [
    "***Disable Bouncing dock icons***"
   ]
  },
  {
   "cell_type": "code",
   "execution_count": null,
   "metadata": {
    "vscode": {
     "languageId": "shellscript"
    }
   },
   "outputs": [],
   "source": [
    "### Read current value\n",
    "defaults read com.apple.dock no-bouncing\n",
    "### Set to true\n",
    "defaults write com.apple.dock no-bouncing -bool true && killall Dock\n",
    "### Reset to default value\n",
    "defaults delete com.apple.dock no-bouncing && killall Dock"
   ]
  },
  {
   "cell_type": "markdown",
   "metadata": {},
   "source": [
    "***Add a 'Recent Applications' stack to the Dock.***"
   ]
  },
  {
   "cell_type": "code",
   "execution_count": null,
   "metadata": {
    "vscode": {
     "languageId": "shellscript"
    }
   },
   "outputs": [],
   "source": [
    "### Read current value\n",
    "defaults read com.apple.dock persistent-others\n",
    "### Set to true\n",
    "defaults write com.apple.dock persistent-others -array-add '{ \"tile-data\" = { \"list-type\" = 1; }; \"tile-type\" = \"recents-tile\"; }' && killall Dock\n",
    "### Reset to default value\n",
    "defaults delete com.apple.dock persistent-others && killall Dock"
   ]
  },
  {
   "cell_type": "markdown",
   "metadata": {},
   "source": [
    "***Change login screen background***"
   ]
  },
  {
   "cell_type": "code",
   "execution_count": null,
   "metadata": {
    "vscode": {
     "languageId": "shellscript"
    }
   },
   "outputs": [],
   "source": [
    "### Read current value\n",
    "sudo defaults read /Library/Preferences/com.apple.loginwindow DesktopPicture\n",
    "### Set to true\n",
    "sudo defaults write /Library/Preferences/com.apple.loginwindow DesktopPicture \"/Library/Desktop Pictures/Aqua Blue.jpg\"\n",
    "### Reset to default value\n",
    "sudo defaults delete /Library/Preferences/com.apple.loginwindow DesktopPicture"
   ]
  },
  {
   "cell_type": "markdown",
   "metadata": {},
   "source": [
    "Stacks, Activate Mouse Over Gradient:\n",
    "$ \n",
    "$ killall Dock\n",
    "To deactivate set back to NO"
   ]
  },
  {
   "cell_type": "code",
   "execution_count": null,
   "metadata": {
    "vscode": {
     "languageId": "shellscript"
    }
   },
   "outputs": [],
   "source": [
    "### Read current value\n",
    "defaults read com.apple.dock mouse-over-hilte-stack\n",
    "### Set to true\n",
    "defaults write com.apple.dock mouse-over-hilte-stack -boolean true && killall Dock\n",
    "### Reset to default value\n",
    "defaults delete com.apple.dock mouse-over-hilte-stack && killall Dock"
   ]
  },
  {
   "cell_type": "markdown",
   "metadata": {},
   "source": [
    "### Screenshots"
   ]
  },
  {
   "cell_type": "markdown",
   "metadata": {},
   "source": [
    "***Disable shadow***"
   ]
  },
  {
   "cell_type": "code",
   "execution_count": null,
   "metadata": {
    "vscode": {
     "languageId": "shellscript"
    }
   },
   "outputs": [],
   "source": [
    "### Read current value\n",
    "defaults read com.apple.screencapture \"disable-shadow\"\n",
    "### Set to false (default value)\n",
    "defaults write com.apple.screencapture \"disable-shadow\" -bool \"false\"\n",
    "### Reset to default value\n",
    "defaults delete com.apple.screencapture \"disable-shadow\""
   ]
  },
  {
   "cell_type": "markdown",
   "metadata": {},
   "source": [
    "***Include date***"
   ]
  },
  {
   "cell_type": "code",
   "execution_count": null,
   "metadata": {
    "vscode": {
     "languageId": "shellscript"
    }
   },
   "outputs": [],
   "source": [
    "### Read current value\n",
    "defaults read com.apple.screencapture \"include-date\"\n",
    "### Set to true (default value)\n",
    "defaults write com.apple.screencapture \"include-date\" -bool \"true\" \n",
    "### Reset to default value\n",
    "defaults delete com.apple.screencapture \"include-date\""
   ]
  },
  {
   "cell_type": "markdown",
   "metadata": {},
   "source": [
    "***Set location***"
   ]
  },
  {
   "cell_type": "code",
   "execution_count": null,
   "metadata": {
    "vscode": {
     "languageId": "shellscript"
    }
   },
   "outputs": [],
   "source": [
    "### Read current value\n",
    "defaults read com.apple.screencapture \"location\"\n",
    "### Set to ~/Desktop (default value)\n",
    "defaults write com.apple.screencapture \"location\" -string \"~/Desktop\" && killall SystemUIServer\n",
    "### Reset to default value\n",
    "defaults delete com.apple.screencapture \"location\" && killall SystemUIServer"
   ]
  },
  {
   "cell_type": "markdown",
   "metadata": {},
   "source": [
    "***Display thumbnail***"
   ]
  },
  {
   "cell_type": "code",
   "execution_count": null,
   "metadata": {
    "vscode": {
     "languageId": "shellscript"
    }
   },
   "outputs": [],
   "source": [
    "### Read current value\n",
    "defaults read com.apple.screencapture \"show-thumbnail\"\n",
    "### Set to true (default value)\n",
    "defaults write com.apple.screencapture \"show-thumbnail\" -bool \"true\" \n",
    "### Reset to default value\n",
    "defaults delete com.apple.screencapture \"show-thumbnail\""
   ]
  },
  {
   "cell_type": "markdown",
   "metadata": {},
   "source": [
    "***Choose screenshot format***\n",
    "Choose the screenshots image format.\n",
    "\n",
    "Parameter type: string\n",
    "* png\n",
    "* jpg\n",
    "* pdf\n",
    "* psd\n",
    "* gif\n",
    "* tga\n",
    "* tiff\n",
    "* bmp"
   ]
  },
  {
   "cell_type": "code",
   "execution_count": null,
   "metadata": {
    "vscode": {
     "languageId": "shellscript"
    }
   },
   "outputs": [],
   "source": [
    "### Read current value\n",
    "defaults read com.apple.screencapture \"type\"\n",
    "### Set to png (default value)\n",
    "defaults write com.apple.screencapture \"type\" -string \"png\" \n",
    "### Reset to default value\n",
    "defaults delete com.apple.screencapture \"type\""
   ]
  },
  {
   "cell_type": "markdown",
   "metadata": {},
   "source": [
    "### Safari"
   ]
  },
  {
   "cell_type": "markdown",
   "metadata": {},
   "source": [
    "***Show full URL***"
   ]
  },
  {
   "cell_type": "code",
   "execution_count": null,
   "metadata": {
    "vscode": {
     "languageId": "shellscript"
    }
   },
   "outputs": [],
   "source": [
    "### Read current value\n",
    "defaults read com.apple.safari ShowFullURLInSmartSearchField\n",
    "### Set to false (default value)\n",
    "defaults write com.apple.safari ShowFullURLInSmartSearchField -bool \"false\" && killall Safari\n",
    "### Reset to default value\n",
    "defaults delete com.apple.safari ShowFullURLInSmartSearchField && killall Safari"
   ]
  },
  {
   "cell_type": "markdown",
   "metadata": {},
   "source": [
    "***Don’t send search queries to Apple***"
   ]
  },
  {
   "cell_type": "code",
   "execution_count": null,
   "metadata": {
    "vscode": {
     "languageId": "shellscript"
    }
   },
   "outputs": [],
   "source": [
    "### Read current value\n",
    "defaults read com.apple.Safari UniversalSearchEnabled\n",
    "defaults read com.apple.Safari SuppressSearchSuggestions\n",
    "### Set to false\n",
    "defaults write com.apple.Safari UniversalSearchEnabled -bool false\n",
    "defaults write com.apple.Safari SuppressSearchSuggestions -bool true\n",
    "### Reset to default value\n",
    "defaults delete com.apple.Safari UniversalSearchEnabled\n",
    "defaults delete com.apple.Safari SuppressSearchSuggestions"
   ]
  },
  {
   "cell_type": "markdown",
   "metadata": {},
   "source": [
    "***Press Tab to highlight each item on a web page***"
   ]
  },
  {
   "cell_type": "code",
   "execution_count": null,
   "metadata": {
    "vscode": {
     "languageId": "shellscript"
    }
   },
   "outputs": [],
   "source": [
    "### Read current value\n",
    "defaults read com.apple.Safari WebKitTabToLinksPreferenceKey\n",
    "defaults read com.apple.Safari com.apple.Safari.ContentPageGroupIdentifier.WebKit2TabsToLinks\n",
    "### Set to true\n",
    "defaults write com.apple.Safari WebKitTabToLinksPreferenceKey -bool true\n",
    "defaults write com.apple.Safari com.apple.Safari.ContentPageGroupIdentifier.WebKit2TabsToLinks -bool true\n",
    "### Reset to default value\n",
    "defaults delete com.apple.Safari WebKitTabToLinksPreferenceKey\n",
    "defaults delete com.apple.Safari com.apple.Safari.ContentPageGroupIdentifier.WebKit2TabsToLinks"
   ]
  },
  {
   "cell_type": "markdown",
   "metadata": {},
   "source": [
    "***Set Safari’s home page to `about:blank` for faster loading***"
   ]
  },
  {
   "cell_type": "code",
   "execution_count": null,
   "metadata": {
    "vscode": {
     "languageId": "shellscript"
    }
   },
   "outputs": [],
   "source": [
    "### Read current value\n",
    "defaults read com.apple.Safari HomePage\n",
    "### Set to \"about:blank\"\n",
    "defaults write com.apple.Safari HomePage -string \"about:blank\"\n",
    "### Reset to default value\n",
    "defaults delete com.apple.Safari HomePage"
   ]
  },
  {
   "cell_type": "markdown",
   "metadata": {},
   "source": [
    "***Prevent Safari from opening ‘safe’ files automatically after downloading***"
   ]
  },
  {
   "cell_type": "code",
   "execution_count": null,
   "metadata": {
    "vscode": {
     "languageId": "shellscript"
    }
   },
   "outputs": [],
   "source": [
    "### Read current value\n",
    "defaults read com.apple.Safari AutoOpenSafeDownloads\n",
    "### Set to false\n",
    "defaults write com.apple.Safari AutoOpenSafeDownloads -bool false\n",
    "### Reset to default value\n",
    "defaults delete com.apple.Safari AutoOpenSafeDownloads"
   ]
  },
  {
   "cell_type": "markdown",
   "metadata": {},
   "source": [
    "***Allow hitting the Backspace key to go to the previous page in history***\n"
   ]
  },
  {
   "cell_type": "code",
   "execution_count": null,
   "metadata": {
    "vscode": {
     "languageId": "shellscript"
    }
   },
   "outputs": [],
   "source": [
    "### Read current value\n",
    "defaults read com.apple.Safari com.apple.Safari.ContentPageGroupIdentifier.WebKit2BackspaceKeyNavigationEnabled\n",
    "### Set to true\n",
    "defaults write com.apple.Safari com.apple.Safari.ContentPageGroupIdentifier.WebKit2BackspaceKeyNavigationEnabled -bool true\n",
    "### Reset to default value\n",
    "defaults delete com.apple.Safari com.apple.Safari.ContentPageGroupIdentifier.WebKit2BackspaceKeyNavigationEnabled"
   ]
  },
  {
   "cell_type": "markdown",
   "metadata": {},
   "source": [
    "***Hide Safari’s bookmarks bar by default***"
   ]
  },
  {
   "cell_type": "code",
   "execution_count": null,
   "metadata": {
    "vscode": {
     "languageId": "shellscript"
    }
   },
   "outputs": [],
   "source": [
    "### Read current value\n",
    "defaults read com.apple.Safari ShowFavoritesBar\n",
    "### Set to false\n",
    "defaults write com.apple.Safari ShowFavoritesBar -bool false\n",
    "### Reset to default value\n",
    "defaults delete com.apple.Safari ShowFavoritesBar"
   ]
  },
  {
   "cell_type": "markdown",
   "metadata": {},
   "source": [
    "***Hide Safari’s sidebar in Top Sites***"
   ]
  },
  {
   "cell_type": "code",
   "execution_count": null,
   "metadata": {
    "vscode": {
     "languageId": "shellscript"
    }
   },
   "outputs": [],
   "source": [
    "### Read current value\n",
    "defaults read com.apple.Safari ShowSidebarInTopSites\n",
    "### Set to false\n",
    "defaults write com.apple.Safari ShowSidebarInTopSites -bool false\n",
    "### Reset to default value\n",
    "defaults delete com.apple.Safari ShowSidebarInTopSites"
   ]
  },
  {
   "cell_type": "markdown",
   "metadata": {},
   "source": [
    "***Disable Safari’s thumbnail cache for History and Top Sites***"
   ]
  },
  {
   "cell_type": "code",
   "execution_count": null,
   "metadata": {
    "vscode": {
     "languageId": "shellscript"
    }
   },
   "outputs": [],
   "source": [
    "### Read current value\n",
    "defaults read com.apple.Safari DebugSnapshotsUpdatePolicy\n",
    "### Set to 2\n",
    "defaults write com.apple.Safari DebugSnapshotsUpdatePolicy -int 2\n",
    "### Reset to default value\n",
    "defaults delete com.apple.Safari DebugSnapshotsUpdatePolicy"
   ]
  },
  {
   "cell_type": "markdown",
   "metadata": {},
   "source": [
    "***Enable Safari’s debug menu***"
   ]
  },
  {
   "cell_type": "code",
   "execution_count": null,
   "metadata": {
    "vscode": {
     "languageId": "shellscript"
    }
   },
   "outputs": [],
   "source": [
    "### Read current value\n",
    "defaults read com.apple.Safari IncludeInternalDebugMenu\n",
    "### Set to true\n",
    "defaults write com.apple.Safari IncludeInternalDebugMenu -bool true\n",
    "### Reset to default value\n",
    "defaults delete com.apple.Safari IncludeInternalDebugMenu"
   ]
  },
  {
   "cell_type": "markdown",
   "metadata": {},
   "source": [
    "***Make Safari’s search banners default to Contains instead of Starts With***"
   ]
  },
  {
   "cell_type": "code",
   "execution_count": null,
   "metadata": {
    "vscode": {
     "languageId": "shellscript"
    }
   },
   "outputs": [],
   "source": [
    "### Read current value\n",
    "defaults read com.apple.Safari FindOnPageMatchesWordStartsOnly\n",
    "### Set to false\n",
    "defaults write com.apple.Safari FindOnPageMatchesWordStartsOnly -bool false\n",
    "### Reset to default value\n",
    "defaults delete com.apple.Safari FindOnPageMatchesWordStartsOnly"
   ]
  },
  {
   "cell_type": "markdown",
   "metadata": {},
   "source": [
    "***Remove useless icons from Safari’s bookmarks bar***"
   ]
  },
  {
   "cell_type": "code",
   "execution_count": null,
   "metadata": {
    "vscode": {
     "languageId": "shellscript"
    }
   },
   "outputs": [],
   "source": [
    "### Read current value\n",
    "defaults read com.apple.Safari ProxiesInBookmarksBar\n",
    "### Set to\n",
    "defaults write com.apple.Safari ProxiesInBookmarksBar \"()\"\n",
    "### Reset to default value\n",
    "defaults delete com.apple.Safari ProxiesInBookmarksBar"
   ]
  },
  {
   "cell_type": "markdown",
   "metadata": {},
   "source": [
    "***Enable the Develop menu and the Web Inspector in Safari***"
   ]
  },
  {
   "cell_type": "code",
   "execution_count": null,
   "metadata": {
    "vscode": {
     "languageId": "shellscript"
    }
   },
   "outputs": [],
   "source": [
    "### Read current value\n",
    "defaults read com.apple.Safari IncludeDevelopMenu\n",
    "defaults read com.apple.Safari WebKitDeveloperExtrasEnabledPreferenceKey\n",
    "defaults read com.apple.Safari com.apple.Safari.ContentPageGroupIdentifier.WebKit2DeveloperExtrasEnabled\n",
    "### Set to true\n",
    "defaults write com.apple.Safari IncludeDevelopMenu -bool true\n",
    "defaults write com.apple.Safari WebKitDeveloperExtrasEnabledPreferenceKey -bool true\n",
    "defaults write com.apple.Safari com.apple.Safari.ContentPageGroupIdentifier.WebKit2DeveloperExtrasEnabled -bool true\n",
    "### Reset to default value\n",
    "defaults delete com.apple.Safari IncludeDevelopMenu\n",
    "defaults delete com.apple.Safari WebKitDeveloperExtrasEnabledPreferenceKey\n",
    "defaults delete com.apple.Safari com.apple.Safari.ContentPageGroupIdentifier.WebKit2DeveloperExtrasEnabled"
   ]
  },
  {
   "cell_type": "markdown",
   "metadata": {},
   "source": [
    "***Add a context menu item for showing the Web Inspector in web views***"
   ]
  },
  {
   "cell_type": "code",
   "execution_count": null,
   "metadata": {
    "vscode": {
     "languageId": "shellscript"
    }
   },
   "outputs": [],
   "source": [
    "### Read current value\n",
    "defaults read NSGlobalDomain WebKitDeveloperExtras\n",
    "### Set to true\n",
    "defaults write NSGlobalDomain WebKitDeveloperExtras -bool true\n",
    "### Reset to default value\n",
    "defaults delete NSGlobalDomain WebKitDeveloperExtras"
   ]
  },
  {
   "cell_type": "markdown",
   "metadata": {},
   "source": [
    "***Enable continuous spellchecking***"
   ]
  },
  {
   "cell_type": "code",
   "execution_count": null,
   "metadata": {
    "vscode": {
     "languageId": "shellscript"
    }
   },
   "outputs": [],
   "source": [
    "### Read current value\n",
    "defaults read com.apple.Safari WebContinuousSpellCheckingEnabled\n",
    "### Set to true\n",
    "defaults write com.apple.Safari WebContinuousSpellCheckingEnabled -bool true\n",
    "### Reset to default value\n",
    "defaults delete com.apple.Safari WebContinuousSpellCheckingEnabled"
   ]
  },
  {
   "cell_type": "markdown",
   "metadata": {},
   "source": [
    "***Disable auto-correct***"
   ]
  },
  {
   "cell_type": "code",
   "execution_count": null,
   "metadata": {
    "vscode": {
     "languageId": "shellscript"
    }
   },
   "outputs": [],
   "source": [
    "### Read current value\n",
    "defaults read com.apple.Safari WebAutomaticSpellingCorrectionEnabled\n",
    "### Set to false\n",
    "defaults write com.apple.Safari WebAutomaticSpellingCorrectionEnabled -bool false\n",
    "### Reset to default value\n",
    "defaults delete com.apple.Safari WebAutomaticSpellingCorrectionEnabled"
   ]
  },
  {
   "cell_type": "markdown",
   "metadata": {},
   "source": [
    "***Disable AutoFill***"
   ]
  },
  {
   "cell_type": "code",
   "execution_count": null,
   "metadata": {
    "vscode": {
     "languageId": "shellscript"
    }
   },
   "outputs": [],
   "source": [
    "### Read current value\n",
    "defaults read com.apple.Safari AutoFillFromAddressBook\n",
    "defaults read com.apple.Safari AutoFillPasswords\n",
    "defaults read com.apple.Safari AutoFillCreditCardData\n",
    "defaults read com.apple.Safari AutoFillMiscellaneousForms\n",
    "### Set to false\n",
    "defaults write com.apple.Safari AutoFillFromAddressBook -bool false\n",
    "defaults write com.apple.Safari AutoFillPasswords -bool false\n",
    "defaults write com.apple.Safari AutoFillCreditCardData -bool false\n",
    "defaults write com.apple.Safari AutoFillMiscellaneousForms -bool false\n",
    "### Reset to default value\n",
    "defaults delete com.apple.Safari AutoFillFromAddressBook\n",
    "defaults delete com.apple.Safari AutoFillPasswords\n",
    "defaults delete com.apple.Safari AutoFillCreditCardData\n",
    "defaults delete com.apple.Safari AutoFillMiscellaneousForms"
   ]
  },
  {
   "cell_type": "markdown",
   "metadata": {},
   "source": [
    "***Warn about fraudulent websites***"
   ]
  },
  {
   "cell_type": "code",
   "execution_count": null,
   "metadata": {
    "vscode": {
     "languageId": "shellscript"
    }
   },
   "outputs": [],
   "source": [
    "### Read current value\n",
    "defaults read com.apple.Safari WarnAboutFraudulentWebsites\n",
    "### Set to true\n",
    "defaults write com.apple.Safari WarnAboutFraudulentWebsites -bool true\n",
    "### Reset to default value\n",
    "defaults delete com.apple.Safari WarnAboutFraudulentWebsites"
   ]
  },
  {
   "cell_type": "markdown",
   "metadata": {},
   "source": [
    "***Disable plug-ins***"
   ]
  },
  {
   "cell_type": "code",
   "execution_count": null,
   "metadata": {
    "vscode": {
     "languageId": "shellscript"
    }
   },
   "outputs": [],
   "source": [
    "### Read current value\n",
    "defaults read com.apple.Safari WebKitPluginsEnabled\n",
    "defaults read com.apple.Safari com.apple.Safari.ContentPageGroupIdentifier.WebKit2PluginsEnabled\n",
    "### Set to false\n",
    "defaults write com.apple.Safari WebKitPluginsEnabled -bool false\n",
    "defaults write com.apple.Safari com.apple.Safari.ContentPageGroupIdentifier.WebKit2PluginsEnabled -bool false\n",
    "### Reset to default value\n",
    "defaults delete com.apple.Safari WebKitPluginsEnabled\n",
    "defaults delete com.apple.Safari com.apple.Safari.ContentPageGroupIdentifier.WebKit2PluginsEnabled"
   ]
  },
  {
   "cell_type": "markdown",
   "metadata": {},
   "source": [
    "***Disable Java***"
   ]
  },
  {
   "cell_type": "code",
   "execution_count": null,
   "metadata": {
    "vscode": {
     "languageId": "shellscript"
    }
   },
   "outputs": [],
   "source": [
    "### Read current value\n",
    "defaults read com.apple.Safari WebKitJavaEnabled\n",
    "defaults read com.apple.Safari com.apple.Safari.ContentPageGroupIdentifier.WebKit2JavaEnabled\n",
    "defaults read com.apple.Safari com.apple.Safari.ContentPageGroupIdentifier.WebKit2JavaEnabledForLocalFiles\n",
    "### Set to false\n",
    "defaults write com.apple.Safari WebKitJavaEnabled -bool false\n",
    "defaults write com.apple.Safari com.apple.Safari.ContentPageGroupIdentifier.WebKit2JavaEnabled -bool false\n",
    "defaults write com.apple.Safari com.apple.Safari.ContentPageGroupIdentifier.WebKit2JavaEnabledForLocalFiles -bool false\n",
    "### Reset to default value\n",
    "defaults delete com.apple.Safari WebKitJavaEnabled\n",
    "defaults delete com.apple.Safari com.apple.Safari.ContentPageGroupIdentifier.WebKit2JavaEnabled\n",
    "defaults delete com.apple.Safari com.apple.Safari.ContentPageGroupIdentifier.WebKit2JavaEnabledForLocalFiles"
   ]
  },
  {
   "cell_type": "markdown",
   "metadata": {},
   "source": [
    "***Block pop-up windows***"
   ]
  },
  {
   "cell_type": "code",
   "execution_count": null,
   "metadata": {
    "vscode": {
     "languageId": "shellscript"
    }
   },
   "outputs": [],
   "source": [
    "### Read current value\n",
    "defaults read com.apple.Safari WebKitJavaScriptCanOpenWindowsAutomatically\n",
    "defaults read com.apple.Safari com.apple.Safari.ContentPageGroupIdentifier.WebKit2JavaScriptCanOpenWindowsAutomatically\n",
    "### Set to false\n",
    "defaults write com.apple.Safari WebKitJavaScriptCanOpenWindowsAutomatically -bool false\n",
    "defaults write com.apple.Safari com.apple.Safari.ContentPageGroupIdentifier.WebKit2JavaScriptCanOpenWindowsAutomatically -bool false\n",
    "### Reset to default value\n",
    "defaults delete com.apple.Safari WebKitJavaScriptCanOpenWindowsAutomatically\n",
    "defaults delete com.apple.Safari com.apple.Safari.ContentPageGroupIdentifier.WebKit2JavaScriptCanOpenWindowsAutomatically"
   ]
  },
  {
   "cell_type": "markdown",
   "metadata": {},
   "source": [
    "***Disable auto-playing video***"
   ]
  },
  {
   "cell_type": "code",
   "execution_count": null,
   "metadata": {
    "vscode": {
     "languageId": "shellscript"
    }
   },
   "outputs": [],
   "source": [
    "### Read current value\n",
    "defaults read com.apple.Safari WebKitMediaPlaybackAllowsInline\n",
    "defaults read com.apple.SafariTechnologyPreview WebKitMediaPlaybackAllowsInline\n",
    "defaults read com.apple.Safari com.apple.Safari.ContentPageGroupIdentifier.WebKit2AllowsInlineMediaPlayback\n",
    "defaults read com.apple.SafariTechnologyPreview com.apple.Safari.ContentPageGroupIdentifier.WebKit2AllowsInlineMediaPlayback\n",
    "### Set to false\n",
    "defaults write com.apple.Safari WebKitMediaPlaybackAllowsInline -bool false\n",
    "defaults write com.apple.SafariTechnologyPreview WebKitMediaPlaybackAllowsInline -bool false\n",
    "defaults write com.apple.Safari com.apple.Safari.ContentPageGroupIdentifier.WebKit2AllowsInlineMediaPlayback -bool false\n",
    "defaults write com.apple.SafariTechnologyPreview com.apple.Safari.ContentPageGroupIdentifier.WebKit2AllowsInlineMediaPlayback -bool false\n",
    "### Reset to default value\n",
    "defaults delete com.apple.Safari WebKitMediaPlaybackAllowsInline\n",
    "defaults delete com.apple.SafariTechnologyPreview WebKitMediaPlaybackAllowsInline\n",
    "defaults delete com.apple.Safari com.apple.Safari.ContentPageGroupIdentifier.WebKit2AllowsInlineMediaPlayback\n",
    "defaults delete com.apple.SafariTechnologyPreview com.apple.Safari.ContentPageGroupIdentifier.WebKit2AllowsInlineMediaPlayback"
   ]
  },
  {
   "cell_type": "markdown",
   "metadata": {},
   "source": [
    "***Enable “Do Not Track”***"
   ]
  },
  {
   "cell_type": "code",
   "execution_count": null,
   "metadata": {
    "vscode": {
     "languageId": "shellscript"
    }
   },
   "outputs": [],
   "source": [
    "### Read current value\n",
    "defaults read com.apple.Safari SendDoNotTrackHTTPHeader\n",
    "### Set to true\n",
    "defaults write com.apple.Safari SendDoNotTrackHTTPHeader -bool true\n",
    "### Reset to default value\n",
    "defaults delete com.apple.Safari SendDoNotTrackHTTPHeader"
   ]
  },
  {
   "cell_type": "markdown",
   "metadata": {},
   "source": [
    "***Update extensions automatically***"
   ]
  },
  {
   "cell_type": "code",
   "execution_count": null,
   "metadata": {
    "vscode": {
     "languageId": "shellscript"
    }
   },
   "outputs": [],
   "source": [
    "### Read current value\n",
    "defaults read com.apple.Safari InstallExtensionUpdatesAutomatically\n",
    "### Set to true\n",
    "defaults write com.apple.Safari InstallExtensionUpdatesAutomatically -bool true\n",
    "### Reset to default value\n",
    "defaults delete com.apple.Safari InstallExtensionUpdatesAutomatically"
   ]
  },
  {
   "cell_type": "markdown",
   "metadata": {},
   "source": [
    "### Mail"
   ]
  },
  {
   "cell_type": "markdown",
   "metadata": {},
   "source": [
    "***Disable send and reply animations in Mail.app***"
   ]
  },
  {
   "cell_type": "code",
   "execution_count": null,
   "metadata": {
    "vscode": {
     "languageId": "shellscript"
    }
   },
   "outputs": [],
   "source": [
    "### Read current value\n",
    "defaults read com.apple.mail DisableReplyAnimations\n",
    "defaults read com.apple.mail DisableSendAnimations\n",
    "### Set to true\n",
    "defaults write com.apple.mail DisableReplyAnimations -bool true\n",
    "defaults write com.apple.mail DisableSendAnimations -bool true\n",
    "### Reset to default value\n",
    "defaults delete com.apple.mail DisableReplyAnimations\n",
    "defaults delete com.apple.mail DisableSendAnimations"
   ]
  },
  {
   "cell_type": "markdown",
   "metadata": {},
   "source": [
    "***Copy email addresses as `foo@example.com` instead of `Foo Bar <foo@example.com>` in Mail.app"
   ]
  },
  {
   "cell_type": "code",
   "execution_count": null,
   "metadata": {
    "vscode": {
     "languageId": "shellscript"
    }
   },
   "outputs": [],
   "source": [
    "### Read current value\n",
    "defaults read com.apple.mail AddressesIncludeNameOnPasteboard\n",
    "### Set to true\n",
    "defaults write com.apple.mail AddressesIncludeNameOnPasteboard -bool false\n",
    "### Reset to default value\n",
    "defaults delete com.apple.mail AddressesIncludeNameOnPasteboard"
   ]
  },
  {
   "cell_type": "markdown",
   "metadata": {},
   "source": [
    "***Add the keyboard shortcut ⌘ + Enter to send an email in Mail.app***"
   ]
  },
  {
   "cell_type": "code",
   "execution_count": null,
   "metadata": {
    "vscode": {
     "languageId": "shellscript"
    }
   },
   "outputs": [],
   "source": [
    "### Read current value\n",
    "defaults read com.apple.mail NSUserKeyEquivalents\n",
    "### Set to \n",
    "defaults write com.apple.mail NSUserKeyEquivalents -dict-add \"Send\" \"@\\U21a9\"\n",
    "### Reset to default value\n",
    "defaults delete com.apple.mail NSUserKeyEquivalents"
   ]
  },
  {
   "cell_type": "markdown",
   "metadata": {},
   "source": [
    "***Display emails in threaded mode, sorted by date (oldest at the top)***"
   ]
  },
  {
   "cell_type": "code",
   "execution_count": null,
   "metadata": {
    "vscode": {
     "languageId": "shellscript"
    }
   },
   "outputs": [],
   "source": [
    "### Read current value\n",
    "defaults read com.apple.mail DraftsViewerAttributes\n",
    "### Set to \n",
    "defaults write com.apple.mail DraftsViewerAttributes -dict-add \"DisplayInThreadedMode\" -string \"yes\"\n",
    "defaults write com.apple.mail DraftsViewerAttributes -dict-add \"SortedDescending\" -string \"yes\"\n",
    "defaults write com.apple.mail DraftsViewerAttributes -dict-add \"SortOrder\" -string \"received-date\"\n",
    "### Reset to default value\n",
    "defaults delete com.apple.mail DraftsViewerAttributes"
   ]
  },
  {
   "cell_type": "markdown",
   "metadata": {},
   "source": [
    "***Disable inline attachments (just show the icons)***"
   ]
  },
  {
   "cell_type": "code",
   "execution_count": null,
   "metadata": {
    "vscode": {
     "languageId": "shellscript"
    }
   },
   "outputs": [],
   "source": [
    "### Read current value\n",
    "defaults read com.apple.mail DisableInlineAttachmentViewing\n",
    "### Set to true\n",
    "defaults write com.apple.mail DisableInlineAttachmentViewing -bool true\n",
    "### Reset to default value\n",
    "defaults delete com.apple.mail DisableInlineAttachmentViewing"
   ]
  },
  {
   "cell_type": "markdown",
   "metadata": {},
   "source": [
    "***Disable automatic spell checking***"
   ]
  },
  {
   "cell_type": "code",
   "execution_count": null,
   "metadata": {
    "vscode": {
     "languageId": "shellscript"
    }
   },
   "outputs": [],
   "source": [
    "### Read current value\n",
    "defaults read com.apple.mail SpellCheckingBehavior\n",
    "### Set to \n",
    "defaults write com.apple.mail SpellCheckingBehavior -string \"NoSpellCheckingEnabled\"\n",
    "### Reset to default value\n",
    "defaults delete com.apple.mail SpellCheckingBehavior"
   ]
  },
  {
   "cell_type": "markdown",
   "metadata": {},
   "source": [
    "***Force all Apple Mail messages to display as plain text.***"
   ]
  },
  {
   "cell_type": "code",
   "execution_count": null,
   "metadata": {
    "vscode": {
     "languageId": "shellscript"
    }
   },
   "outputs": [],
   "source": [
    "### Read current value\n",
    "defaults read com.apple.mail PreferPlainText\n",
    "### Set to true\n",
    "defaults write com.apple.mail PreferPlainText -bool true\n",
    "### Reset to default value\n",
    "defaults delete com.apple.mail PreferPlainText"
   ]
  },
  {
   "cell_type": "markdown",
   "metadata": {},
   "source": [
    "### Finder\n",
    "The Finder is the default file manager on macOS. It is responsible for the launching of other applications, and for the overall user management of files, disks, and network volumes."
   ]
  },
  {
   "cell_type": "markdown",
   "metadata": {},
   "source": [
    "***Quit***"
   ]
  },
  {
   "cell_type": "code",
   "execution_count": null,
   "metadata": {
    "vscode": {
     "languageId": "shellscript"
    }
   },
   "outputs": [],
   "source": [
    "### Read current value\n",
    "defaults read com.apple.finder \"QuitMenuItem\"\n",
    "### Set to false (default value)\n",
    "defaults write com.apple.finder \"QuitMenuItem\" -bool \"false\" && killall Finder\n",
    "### Reset to default value\n",
    "defaults delete com.apple.finder \"QuitMenuItem\" && killall Finder"
   ]
  },
  {
   "cell_type": "markdown",
   "metadata": {},
   "source": [
    "***Disable window animations and Get Info animations***"
   ]
  },
  {
   "cell_type": "code",
   "execution_count": null,
   "metadata": {
    "vscode": {
     "languageId": "shellscript"
    }
   },
   "outputs": [],
   "source": [
    "### Read current value\n",
    "defaults read com.apple.finder DisableAllAnimations\n",
    "### Set to true\n",
    "defaults write com.apple.finder DisableAllAnimations -bool true && killall Finder\n",
    "### Reset to default value\n",
    "defaults delete com.apple.finder DisableAllAnimations && killall Finder"
   ]
  },
  {
   "cell_type": "markdown",
   "metadata": {},
   "source": [
    "***Set Desktop as the default location for new Finder windows***\n",
    "For other paths, use `PfLo` and `file:///full/path/here/`\n"
   ]
  },
  {
   "cell_type": "code",
   "execution_count": null,
   "metadata": {
    "vscode": {
     "languageId": "shellscript"
    }
   },
   "outputs": [],
   "source": [
    "### Read current value\n",
    "defaults read com.apple.finder NewWindowTarget\n",
    "defaults read com.apple.finder NewWindowTargetPath\n",
    "### Set to \n",
    "defaults write com.apple.finder NewWindowTarget -string \"PfDe\"\n",
    "defaults write com.apple.finder NewWindowTargetPath -string \"file://${HOME}/Desktop/\"\n",
    "### Reset to default value\n",
    "defaults delete com.apple.finder NewWindowTarget\n",
    "defaults delete com.apple.finder NewWindowTargetPath"
   ]
  },
  {
   "cell_type": "markdown",
   "metadata": {},
   "source": [
    "***Show extensions***"
   ]
  },
  {
   "cell_type": "code",
   "execution_count": null,
   "metadata": {
    "vscode": {
     "languageId": "shellscript"
    }
   },
   "outputs": [],
   "source": [
    "### Read current value\n",
    "defaults read NSGlobalDomain \"AppleShowAllExtensions\"\n",
    "### Set to false (default value)\n",
    "defaults write NSGlobalDomain \"AppleShowAllExtensions\" -bool \"false\" && killall Finder\n",
    "### Reset to default value\n",
    "defaults delete NSGlobalDomain \"AppleShowAllExtensions\" && killall Finder"
   ]
  },
  {
   "cell_type": "markdown",
   "metadata": {},
   "source": [
    "***Show hidden files***\n",
    "Show hidden files in the Finder. You can toggle the value using ⌘ cmd+⇧ shift+.."
   ]
  },
  {
   "cell_type": "code",
   "execution_count": null,
   "metadata": {
    "vscode": {
     "languageId": "shellscript"
    }
   },
   "outputs": [],
   "source": [
    "### Read current value\n",
    "defaults read com.apple.finder \"AppleShowAllFiles\"\n",
    "### Set to false (default value)\n",
    "defaults write com.apple.finder \"AppleShowAllFiles\" -bool \"false\" && killall Finder\n",
    "### Reset to default value\n",
    "defaults delete com.apple.finder \"AppleShowAllFiles\" && killall Finder"
   ]
  },
  {
   "cell_type": "markdown",
   "metadata": {},
   "source": [
    "***Path bar***\n",
    "Show path bar in the bottom of the Finder windows."
   ]
  },
  {
   "cell_type": "code",
   "execution_count": null,
   "metadata": {
    "vscode": {
     "languageId": "shellscript"
    }
   },
   "outputs": [],
   "source": [
    "### Read current value\n",
    "defaults read com.apple.finder \"ShowPathbar\"\n",
    "### Set to false (default value)\n",
    "defaults write com.apple.finder \"ShowPathbar\" -bool \"false\" && killall Finder\n",
    "### Reset to default value\n",
    "defaults delete com.apple.finder \"ShowPathbar\" && killall Finder"
   ]
  },
  {
   "cell_type": "markdown",
   "metadata": {},
   "source": [
    "***Status bar***"
   ]
  },
  {
   "cell_type": "code",
   "execution_count": null,
   "metadata": {
    "vscode": {
     "languageId": "shellscript"
    }
   },
   "outputs": [],
   "source": [
    "### Read current value\n",
    "defaults read com.apple.finder ShowStatusBar\n",
    "### Set to true\n",
    "defaults write com.apple.finder ShowStatusBar -bool true && killall Finder\n",
    "### Reset to default value\n",
    "defaults delete com.apple.finder ShowStatusBar && killall Finder"
   ]
  },
  {
   "cell_type": "markdown",
   "metadata": {},
   "source": [
    "***Display full POSIX path as Finder window title***"
   ]
  },
  {
   "cell_type": "code",
   "execution_count": null,
   "metadata": {
    "vscode": {
     "languageId": "shellscript"
    }
   },
   "outputs": [],
   "source": [
    "### Read current value\n",
    "defaults read com.apple.finder _FXShowPosixPathInTitle\n",
    "### Set to true\n",
    "defaults write com.apple.finder _FXShowPosixPathInTitle -bool true && killall Finder\n",
    "### Reset to default value\n",
    "defaults delete com.apple.finder _FXShowPosixPathInTitle && killall Finder"
   ]
  },
  {
   "cell_type": "markdown",
   "metadata": {},
   "source": [
    "***Enable spring loading for directories***"
   ]
  },
  {
   "cell_type": "code",
   "execution_count": null,
   "metadata": {
    "vscode": {
     "languageId": "shellscript"
    }
   },
   "outputs": [],
   "source": [
    "### Read current value\n",
    "defaults read NSGlobalDomain com.apple.springing.enable\n",
    "### Set to true\n",
    "defaults write NSGlobalDomain com.apple.springing.enabled -bool true\n",
    "### Reset to default value\n",
    "defaults delete NSGlobalDomain com.apple.springing.enable"
   ]
  },
  {
   "cell_type": "markdown",
   "metadata": {},
   "source": [
    "***Remove the spring loading delay for directories***\n"
   ]
  },
  {
   "cell_type": "code",
   "execution_count": null,
   "metadata": {
    "vscode": {
     "languageId": "shellscript"
    }
   },
   "outputs": [],
   "source": [
    "### Read current value\n",
    "defaults read NSGlobalDomain com.apple.springing.delay\n",
    "### Set to 0\n",
    "defaults write NSGlobalDomain com.apple.springing.delay -float 0\n",
    "### Reset to default value\n",
    "defaults delete NSGlobalDomain com.apple.springing.delay"
   ]
  },
  {
   "cell_type": "markdown",
   "metadata": {},
   "source": [
    "***Avoid creating .DS_Store files on network or USB volumes***"
   ]
  },
  {
   "cell_type": "code",
   "execution_count": null,
   "metadata": {
    "vscode": {
     "languageId": "shellscript"
    }
   },
   "outputs": [],
   "source": [
    "### Read current value\n",
    "defaults read com.apple.desktopservices DSDontWriteNetworkStores\n",
    "defaults read com.apple.desktopservices DSDontWriteUSBStores\n",
    "### Set to true\n",
    "defaults write com.apple.desktopservices DSDontWriteNetworkStores -bool true\n",
    "defaults write com.apple.desktopservices DSDontWriteUSBStores -bool true\n",
    "### Reset to default value\n",
    "defaults delete com.apple.desktopservices DSDontWriteNetworkStores\n",
    "defaults delete com.apple.desktopservices DSDontWriteUSBStores"
   ]
  },
  {
   "cell_type": "markdown",
   "metadata": {},
   "source": [
    "***Disable disk image verification***"
   ]
  },
  {
   "cell_type": "code",
   "execution_count": null,
   "metadata": {
    "vscode": {
     "languageId": "shellscript"
    }
   },
   "outputs": [],
   "source": [
    "### Read current value\n",
    "defaults read com.apple.frameworks.diskimages skip-verify\n",
    "defaults read com.apple.frameworks.diskimages skip-verify-locked\n",
    "defaults read com.apple.frameworks.diskimages skip-verify-remote\n",
    "### Set to true\n",
    "defaults write com.apple.frameworks.diskimages skip-verify -bool true\n",
    "defaults write com.apple.frameworks.diskimages skip-verify-locked -bool true\n",
    "defaults write com.apple.frameworks.diskimages skip-verify-remote -bool true\n",
    "### Reset to default value\n",
    "defaults delete com.apple.frameworks.diskimages skip-verify\n",
    "defaults delete com.apple.frameworks.diskimages skip-verify-locked\n",
    "defaults delete com.apple.frameworks.diskimages skip-verify-remote"
   ]
  },
  {
   "cell_type": "markdown",
   "metadata": {},
   "source": [
    "***Automatically open a new Finder window when a volume is mounted***"
   ]
  },
  {
   "cell_type": "code",
   "execution_count": null,
   "metadata": {
    "vscode": {
     "languageId": "shellscript"
    }
   },
   "outputs": [],
   "source": [
    "### Read current value\n",
    "defaults read com.apple.frameworks.diskimages auto-open-ro-root\n",
    "defaults read com.apple.frameworks.diskimages auto-open-rw-root\n",
    "defaults read com.apple.finder OpenWindowForNewRemovableDisk\n",
    "### Set to true\n",
    "defaults write com.apple.frameworks.diskimages auto-open-ro-root -bool true\n",
    "defaults write com.apple.frameworks.diskimages auto-open-rw-root -bool true\n",
    "defaults write com.apple.finder OpenWindowForNewRemovableDisk -bool true\n",
    "### Reset to default value\n",
    "defaults delete com.apple.frameworks.diskimages auto-open-ro-root\n",
    "defaults delete com.apple.frameworks.diskimages auto-open-rw-root\n",
    "defaults delete com.apple.finder OpenWindowForNewRemovableDisk"
   ]
  },
  {
   "cell_type": "markdown",
   "metadata": {},
   "source": [
    "***Default view style***"
   ]
  },
  {
   "cell_type": "code",
   "execution_count": null,
   "metadata": {
    "vscode": {
     "languageId": "shellscript"
    }
   },
   "outputs": [],
   "source": [
    "### Read current value\n",
    "defaults read com.apple.finder \"FXPreferredViewStyle\"\n",
    "### Set to icnv (default value) - Icon view\n",
    "defaults write com.apple.finder \"FXPreferredViewStyle\" -string \"icnv\" && killall Finder\n",
    "### Set to glyv - Gallery View\n",
    "defaults write com.apple.finder \"FXPreferredViewStyle\" -string \"glyv\" && killall Finder\n",
    "### Set to clmv - Column view\n",
    "defaults write com.apple.finder \"FXPreferredViewStyle\" -string \"clmv\" && killall Finder\n",
    "### Set to Nlsv - List view\n",
    "defaults write com.apple.finder \"FXPreferredViewStyle\" -string \"Nlsv\" && killall Finder\n",
    "### Reset to default value\n",
    "defaults delete com.apple.finder \"FXPreferredViewStyle\" && killall Finder"
   ]
  },
  {
   "cell_type": "markdown",
   "metadata": {},
   "source": [
    "***Disable the warning before emptying the Trash***"
   ]
  },
  {
   "cell_type": "code",
   "execution_count": null,
   "metadata": {
    "vscode": {
     "languageId": "shellscript"
    }
   },
   "outputs": [],
   "source": [
    "### Read current value\n",
    "defaults read com.apple.finder WarnOnEmptyTrash\n",
    "### Set to false\n",
    "defaults write com.apple.finder WarnOnEmptyTrash -bool false && killall Finder\n",
    "### Reset to default value\n",
    "defaults delete com.apple.finder WarnOnEmptyTrash && killall Finder"
   ]
  },
  {
   "cell_type": "markdown",
   "metadata": {},
   "source": [
    "***Enable AirDrop over Ethernet and on unsupported Macs running Lion***"
   ]
  },
  {
   "cell_type": "code",
   "execution_count": null,
   "metadata": {
    "vscode": {
     "languageId": "shellscript"
    }
   },
   "outputs": [],
   "source": [
    "### Read current value\n",
    "defaults read com.apple.NetworkBrowser BrowseAllInterfaces \n",
    "### Set to false\n",
    "defaults write com.apple.NetworkBrowser BrowseAllInterfaces -bool true\n",
    "### Reset to default value\n",
    "defaults delete com.apple.NetworkBrowser BrowseAllInterfaces"
   ]
  },
  {
   "cell_type": "markdown",
   "metadata": {},
   "source": [
    "***Expand the following File Info panes:***\n",
    "* “General”\n",
    "* “Open with”\n",
    "* “Sharing & Permissions”"
   ]
  },
  {
   "cell_type": "code",
   "execution_count": null,
   "metadata": {
    "vscode": {
     "languageId": "shellscript"
    }
   },
   "outputs": [],
   "source": [
    "### Read current value\n",
    "defaults read com.apple.finder FXInfoPanesExpanded\n",
    "### Set to \n",
    "defaults write com.apple.finder FXInfoPanesExpanded -dict \\\n",
    "\tGeneral -bool true \\\n",
    "\tOpenWith -bool true \\\n",
    "\tPrivileges -bool true\n",
    "### Reset to default value\n",
    "defaults delete com.apple.finder FXInfoPanesExpanded"
   ]
  },
  {
   "cell_type": "markdown",
   "metadata": {},
   "source": [
    "***Keep folders on top***"
   ]
  },
  {
   "cell_type": "code",
   "execution_count": null,
   "metadata": {
    "vscode": {
     "languageId": "shellscript"
    }
   },
   "outputs": [],
   "source": [
    "### Read current value\n",
    "defaults read com.apple.finder \"_FXSortFoldersFirst\"\n",
    "### Set to false (default value)\n",
    "defaults write com.apple.finder \"_FXSortFoldersFirst\" -bool \"false\" && killall Finder\n",
    "### Reset to default value\n",
    "defaults delete com.apple.finder \"_FXSortFoldersFirst\" && killall Finder"
   ]
  },
  {
   "cell_type": "markdown",
   "metadata": {},
   "source": [
    "***Default search scope***"
   ]
  },
  {
   "cell_type": "code",
   "execution_count": null,
   "metadata": {
    "vscode": {
     "languageId": "shellscript"
    }
   },
   "outputs": [],
   "source": [
    "### Read current value\n",
    "defaults read com.apple.finder \"FXDefaultSearchScope\"\n",
    "### Set to SCev (default value) - Search this Mac\n",
    "defaults write com.apple.finder \"FXDefaultSearchScope\" -string \"SCev\" && killall Finder\n",
    "### Set to SCcf - Search the current folder\n",
    "defaults write com.apple.finder \"FXDefaultSearchScope\" -string \"SCcf\" && killall Finder\n",
    "### Set to SCsp - Use the previous search scope\n",
    "defaults write com.apple.finder \"FXDefaultSearchScope\" -string \"SCsp\" && killall Finder\n",
    "### Reset to default value\n",
    "defaults delete com.apple.finder \"FXDefaultSearchScope\" && killall Finder"
   ]
  },
  {
   "cell_type": "markdown",
   "metadata": {},
   "source": [
    "***Empty bin items after 30 days***"
   ]
  },
  {
   "cell_type": "code",
   "execution_count": null,
   "metadata": {
    "vscode": {
     "languageId": "shellscript"
    }
   },
   "outputs": [],
   "source": [
    "### Read current value\n",
    "defaults read com.apple.finder \"FXRemoveOldTrashItems\"\n",
    "### Set to false (default value) - Keep bin as is\n",
    "defaults write com.apple.finder \"FXRemoveOldTrashItems\" -bool \"false\" && killall Finder\n",
    "### Reset to default value\n",
    "defaults delete com.apple.finder \"FXRemoveOldTrashItems\" && killall Finder"
   ]
  },
  {
   "cell_type": "markdown",
   "metadata": {},
   "source": [
    "***Changing file extension warning***"
   ]
  },
  {
   "cell_type": "code",
   "execution_count": null,
   "metadata": {
    "vscode": {
     "languageId": "shellscript"
    }
   },
   "outputs": [],
   "source": [
    "### Read current value\n",
    "defaults read com.apple.finder \"FXEnableExtensionChangeWarning\"\n",
    "### Set to true (default value) - Display a warning when changing a file extension in the Finder\n",
    "defaults write com.apple.finder \"FXEnableExtensionChangeWarning\" -bool \"true\" && killall Finder\n",
    "### Reset to default value\n",
    "defaults delete com.apple.finder \"FXEnableExtensionChangeWarning\" && killall Finder"
   ]
  },
  {
   "cell_type": "markdown",
   "metadata": {},
   "source": [
    "***Save to disk or iCloud by default***\n",
    "Choose whether the default file save location is on disk or iCloud."
   ]
  },
  {
   "cell_type": "code",
   "execution_count": null,
   "metadata": {
    "vscode": {
     "languageId": "shellscript"
    }
   },
   "outputs": [],
   "source": [
    "### Read current value\n",
    "defaults read NSGlobalDomain \"NSDocumentSaveNewDocumentsToCloud\"\n",
    "### Set to true (default value) - iCloud Documents is the default directory opened in the fileviewer dialog when saving a new document\n",
    "defaults write NSGlobalDomain \"NSDocumentSaveNewDocumentsToCloud\" -bool \"true\" \n",
    "### Reset to default value\n",
    "defaults delete NSGlobalDomain \"NSDocumentSaveNewDocumentsToCloud\""
   ]
  },
  {
   "cell_type": "markdown",
   "metadata": {},
   "source": [
    "***Title bar icons***"
   ]
  },
  {
   "cell_type": "code",
   "execution_count": null,
   "metadata": {
    "vscode": {
     "languageId": "shellscript"
    }
   },
   "outputs": [],
   "source": [
    "### Read current value\n",
    "defaults read com.apple.universalaccess \"showWindowTitlebarIcons\"\n",
    "### Set to false (default value) - Hide icon from the title bar\n",
    "defaults write com.apple.universalaccess \"showWindowTitlebarIcons\" -bool \"false\" && killall Finder\n",
    "### Reset to default value\n",
    "defaults delete com.apple.universalaccess \"showWindowTitlebarIcons\" && killall Finder"
   ]
  },
  {
   "cell_type": "markdown",
   "metadata": {},
   "source": [
    "***Adjust toolbar title rollover delay***"
   ]
  },
  {
   "cell_type": "code",
   "execution_count": null,
   "metadata": {
    "vscode": {
     "languageId": "shellscript"
    }
   },
   "outputs": [],
   "source": [
    "### Read current value\n",
    "defaults read NSGlobalDomain \"NSToolbarTitleViewRolloverDelay\"\n",
    "### Set to 0.5 (default value)\n",
    "defaults write NSGlobalDomain \"NSToolbarTitleViewRolloverDelay\" -float \"0.5\" && killall Finder\n",
    "### Reset to default value\n",
    "defaults delete NSGlobalDomain \"NSToolbarTitleViewRolloverDelay\" && killall Finder"
   ]
  },
  {
   "cell_type": "markdown",
   "metadata": {},
   "source": [
    "***Set sidebar icon size***"
   ]
  },
  {
   "cell_type": "code",
   "execution_count": null,
   "metadata": {
    "vscode": {
     "languageId": "shellscript"
    }
   },
   "outputs": [],
   "source": [
    "### Read current value\n",
    "defaults read NSGlobalDomain \"NSTableViewDefaultSizeMode\"\n",
    "### Set to 2 (default value)\n",
    "defaults write NSGlobalDomain \"NSTableViewDefaultSizeMode\" -int \"2\" && killall Finder\n",
    "### Reset to default value\n",
    "defaults delete NSGlobalDomain \"NSTableViewDefaultSizeMode\" && killall Finder"
   ]
  },
  {
   "cell_type": "markdown",
   "metadata": {},
   "source": [
    "### Desktop"
   ]
  },
  {
   "cell_type": "markdown",
   "metadata": {},
   "source": [
    "***Keep folders on top***"
   ]
  },
  {
   "cell_type": "code",
   "execution_count": null,
   "metadata": {
    "vscode": {
     "languageId": "shellscript"
    }
   },
   "outputs": [],
   "source": [
    "### Read current value\n",
    "defaults read com.apple.finder \"_FXSortFoldersFirstOnDesktop\"\n",
    "### Set to false (default value)\n",
    "defaults write com.apple.finder \"_FXSortFoldersFirstOnDesktop\" -bool \"false\" && killall Finder\n",
    "### Reset to default value\n",
    "defaults delete com.apple.finder \"_FXSortFoldersFirstOnDesktop\" && killall Finder"
   ]
  },
  {
   "cell_type": "markdown",
   "metadata": {},
   "source": [
    "***All icons***"
   ]
  },
  {
   "cell_type": "code",
   "execution_count": null,
   "metadata": {
    "vscode": {
     "languageId": "shellscript"
    }
   },
   "outputs": [],
   "source": [
    "### Read current value\n",
    "defaults read com.apple.finder \"CreateDesktop\"\n",
    "### Set to true (default value) - Show all icons\n",
    "defaults write com.apple.finder \"CreateDesktop\" -bool \"true\" && killall Finder\n",
    "### Reset to default value\n",
    "defaults delete com.apple.finder \"CreateDesktop\" && killall Finder"
   ]
  },
  {
   "cell_type": "markdown",
   "metadata": {},
   "source": [
    "***Disks***"
   ]
  },
  {
   "cell_type": "code",
   "execution_count": null,
   "metadata": {
    "vscode": {
     "languageId": "shellscript"
    }
   },
   "outputs": [],
   "source": [
    "### Read current value\n",
    "defaults read com.apple.finder \"ShowHardDrivesOnDesktop\"\n",
    "### Set to false (default value) - Hide hard disks\n",
    "defaults write com.apple.finder \"ShowHardDrivesOnDesktop\" -bool \"false\" && killall Finder\n",
    "### Reset to default value\n",
    "defaults delete com.apple.finder \"ShowHardDrivesOnDesktop\" && killall Finder"
   ]
  },
  {
   "cell_type": "markdown",
   "metadata": {},
   "source": [
    "***External disks***"
   ]
  },
  {
   "cell_type": "code",
   "execution_count": null,
   "metadata": {
    "vscode": {
     "languageId": "shellscript"
    }
   },
   "outputs": [],
   "source": [
    "### Read current value\n",
    "defaults read com.apple.finder \"ShowExternalHardDrivesOnDesktop\"\n",
    "### Set to true (default value) - Show external disks\n",
    "defaults write com.apple.finder \"ShowExternalHardDrivesOnDesktop\" -bool \"true\" && killall Finder\n",
    "### Reset to default value\n",
    "defaults delete com.apple.finder \"ShowExternalHardDrivesOnDesktop\" && killall Finder"
   ]
  },
  {
   "cell_type": "markdown",
   "metadata": {},
   "source": [
    "***Removable media***\n",
    "Hide removable media (CDs, DVDs and iPods) on desktop"
   ]
  },
  {
   "cell_type": "code",
   "execution_count": null,
   "metadata": {
    "vscode": {
     "languageId": "shellscript"
    }
   },
   "outputs": [],
   "source": [
    "### Read current value\n",
    "defaults read com.apple.finder \"ShowRemovableMediaOnDesktop\"\n",
    "### Set to true (default value) - Show removable media\n",
    "defaults write com.apple.finder \"ShowRemovableMediaOnDesktop\" -bool \"true\" && killall Finder\n",
    "Reset to default value\n",
    "defaults delete com.apple.finder \"ShowRemovableMediaOnDesktop\" && killall Finder"
   ]
  },
  {
   "cell_type": "markdown",
   "metadata": {},
   "source": [
    "***Connected servers***\n",
    "Show connected servers on desktop"
   ]
  },
  {
   "cell_type": "code",
   "execution_count": null,
   "metadata": {
    "vscode": {
     "languageId": "shellscript"
    }
   },
   "outputs": [],
   "source": [
    "### Read current value\n",
    "defaults read com.apple.finder \"ShowMountedServersOnDesktop\"\n",
    "### Set to false (default value) - Hide connected servers\n",
    "defaults write com.apple.finder \"ShowMountedServersOnDesktop\" -bool \"false\" && killall Finder\n",
    "### Reset to default value\n",
    "defaults delete com.apple.finder \"ShowMountedServersOnDesktop\" && killall Finder"
   ]
  },
  {
   "cell_type": "markdown",
   "metadata": {},
   "source": [
    "### Spotlight"
   ]
  },
  {
   "cell_type": "markdown",
   "metadata": {},
   "source": [
    "***Disable Spotlight indexing for any volume that gets mounted and has not yet been indexed before.***\n",
    "Use `sudo mdutil -i off \"/Volumes/foo\"` to stop indexing any volume."
   ]
  },
  {
   "cell_type": "code",
   "execution_count": null,
   "metadata": {
    "vscode": {
     "languageId": "shellscript"
    }
   },
   "outputs": [],
   "source": [
    "### Read current value\n",
    "sudo defaults read /.Spotlight-V100/VolumeConfiguration Exclusions\n",
    "### Set to\n",
    "sudo defaults write /.Spotlight-V100/VolumeConfiguration Exclusions -array \"/Volumes\"\n",
    "### Reset to default value\n",
    "sudo defaults delete /.Spotlight-V100/VolumeConfiguration Exclusions"
   ]
  },
  {
   "cell_type": "markdown",
   "metadata": {},
   "source": [
    "***Change indexing order and disable some search results***\n",
    "Yosemite-specific search results (remove them if you are using macOS 10.9 or older):\n",
    "* MENU_DEFINITION\n",
    "* MENU_CONVERSION\n",
    "* MENU_EXPRESSION\n",
    "* MENU_SPOTLIGHT_SUGGESTIONS (send search queries to Apple)\n",
    "* MENU_WEBSEARCH             (send search queries to Apple)\n",
    "* MENU_OTHER"
   ]
  },
  {
   "cell_type": "code",
   "execution_count": null,
   "metadata": {
    "vscode": {
     "languageId": "shellscript"
    }
   },
   "outputs": [],
   "source": [
    "### Read current value\n",
    "defaults read com.apple.spotlight orderedItems\n",
    "### Set to\n",
    "defaults write com.apple.spotlight orderedItems -array \\\n",
    "\t'{\"enabled\" = 1;\"name\" = \"APPLICATIONS\";}' \\\n",
    "\t'{\"enabled\" = 1;\"name\" = \"SYSTEM_PREFS\";}' \\\n",
    "\t'{\"enabled\" = 1;\"name\" = \"DIRECTORIES\";}' \\\n",
    "\t'{\"enabled\" = 1;\"name\" = \"PDF\";}' \\\n",
    "\t'{\"enabled\" = 1;\"name\" = \"FONTS\";}' \\\n",
    "\t'{\"enabled\" = 0;\"name\" = \"DOCUMENTS\";}' \\\n",
    "\t'{\"enabled\" = 0;\"name\" = \"MESSAGES\";}' \\\n",
    "\t'{\"enabled\" = 0;\"name\" = \"CONTACT\";}' \\\n",
    "\t'{\"enabled\" = 0;\"name\" = \"EVENT_TODO\";}' \\\n",
    "\t'{\"enabled\" = 0;\"name\" = \"IMAGES\";}' \\\n",
    "\t'{\"enabled\" = 0;\"name\" = \"BOOKMARKS\";}' \\\n",
    "\t'{\"enabled\" = 0;\"name\" = \"MUSIC\";}' \\\n",
    "\t'{\"enabled\" = 0;\"name\" = \"MOVIES\";}' \\\n",
    "\t'{\"enabled\" = 0;\"name\" = \"PRESENTATIONS\";}' \\\n",
    "\t'{\"enabled\" = 0;\"name\" = \"SPREADSHEETS\";}' \\\n",
    "\t'{\"enabled\" = 0;\"name\" = \"SOURCE\";}' \\\n",
    "\t'{\"enabled\" = 0;\"name\" = \"MENU_DEFINITION\";}' \\\n",
    "\t'{\"enabled\" = 0;\"name\" = \"MENU_OTHER\";}' \\\n",
    "\t'{\"enabled\" = 0;\"name\" = \"MENU_CONVERSION\";}' \\\n",
    "\t'{\"enabled\" = 0;\"name\" = \"MENU_EXPRESSION\";}' \\\n",
    "\t'{\"enabled\" = 0;\"name\" = \"MENU_WEBSEARCH\";}' \\\n",
    "\t'{\"enabled\" = 0;\"name\" = \"MENU_SPOTLIGHT_SUGGESTIONS\";}'\n",
    "### Reset to default value\n",
    "defaults read com.apple.spotlight orderedItems"
   ]
  },
  {
   "cell_type": "markdown",
   "metadata": {},
   "source": [
    "### Menu Bar\n",
    "The menu bar runs along the top of the screen on your Mac."
   ]
  },
  {
   "cell_type": "markdown",
   "metadata": {},
   "source": [
    "***Flash clock time separators***\n",
    "When enabled, the clock indicator (which by default is the colon) will flash on and off each second."
   ]
  },
  {
   "cell_type": "code",
   "execution_count": null,
   "metadata": {
    "vscode": {
     "languageId": "shellscript"
    }
   },
   "outputs": [],
   "source": [
    "### Read current value\n",
    "defaults read com.apple.menuextra.clock \"FlashDateSeparators\"\n",
    "### Set to false (default value) - The time separator stays solid continuously.\n",
    "defaults write com.apple.menuextra.clock \"FlashDateSeparators\" -bool \"false\" && killall SystemUIServer\n",
    "### Reset to default value\n",
    "defaults delete com.apple.menuextra.clock \"FlashDateSeparators\" && killall SystemUIServer"
   ]
  },
  {
   "cell_type": "markdown",
   "metadata": {},
   "source": [
    "***Set menubar digital clock format***\n",
    "This setting configures the time and date format for the menubar digital clock. Accepted values depend on your Language & Region settings.\n",
    "\n",
    "**ss** for seconds.\n",
    "**HH** for 24-hour clock.\n",
    "**EEE** for 3-letter day of the week.\n",
    "**d MMM** for day of the month and 3-letter month."
   ]
  },
  {
   "cell_type": "code",
   "execution_count": null,
   "metadata": {
    "vscode": {
     "languageId": "shellscript"
    }
   },
   "outputs": [],
   "source": [
    "### Read current value\n",
    "defaults read com.apple.menuextra.clock \"DateFormat\"\n",
    "### Set to \"EEE d MMM HH:mm:ss\" - Sat 3 Dec 21:46:18\n",
    "defaults write com.apple.menuextra.clock \"DateFormat\" -string \"\\\"EEE d MMM HH:mm:ss\\\"\" \n",
    "### Reset to default value\n",
    "defaults delete com.apple.menuextra.clock \"DateFormat\""
   ]
  },
  {
   "cell_type": "markdown",
   "metadata": {},
   "source": [
    "### Mission Control\n",
    "Formerly known as Spaces, Mission Control allows a user to do the following:\n",
    "\n",
    "* ⌃ ctrl+↑ up view all open application windows.\n",
    "* ⌃ ctrl+↓ down view all open application windows of a specific application.\n",
    "* ⌘ cmd+F3 Mission Control hide all application windows and show the desktop.\n",
    "* ⌃ ctrl+← left/→ right manage application windows across multiple virtual desktops.\n",
    "* manage application windows across multiple monitors."
   ]
  },
  {
   "cell_type": "markdown",
   "metadata": {},
   "source": [
    "***Rearrange automatically***"
   ]
  },
  {
   "cell_type": "code",
   "execution_count": null,
   "metadata": {
    "vscode": {
     "languageId": "shellscript"
    }
   },
   "outputs": [],
   "source": [
    "### Read current value\n",
    "defaults read com.apple.dock \"mru-spaces\"\n",
    "### Set to true (default value) - Reorder Spaces based on most recent use\n",
    "defaults write com.apple.dock \"mru-spaces\" -bool \"true\" && killall Dock\n",
    "### Reset to default value\n",
    "defaults delete com.apple.dock \"mru-spaces\" && killall Dock"
   ]
  },
  {
   "cell_type": "markdown",
   "metadata": {},
   "source": [
    "### Feedback Assistant\n",
    "The Feedback Assistant app allows user to submit reports for developer or public betas."
   ]
  },
  {
   "cell_type": "markdown",
   "metadata": {},
   "source": [
    "***Autogather***\n",
    "Choose whether to autogather large files when submitting a feedback report."
   ]
  },
  {
   "cell_type": "code",
   "execution_count": null,
   "metadata": {
    "vscode": {
     "languageId": "shellscript"
    }
   },
   "outputs": [],
   "source": [
    "### Read current value\n",
    "defaults read com.apple.appleseed.FeedbackAssistant \"Autogather\"\n",
    "### Set to true (default value) - Feedback Assistant gathers large files when submitting a report\n",
    "defaults write com.apple.appleseed.FeedbackAssistant \"Autogather\" -bool \"true\"\n",
    "### Reset to default value\n",
    "defaults delete com.apple.appleseed.FeedbackAssistant \"Autogather\""
   ]
  },
  {
   "cell_type": "markdown",
   "metadata": {},
   "source": [
    "### Xcode\n",
    "Xcode is an integrated development environment for macOS containing a suite of software development tools developed by Apple."
   ]
  },
  {
   "cell_type": "markdown",
   "metadata": {},
   "source": [
    "***Add Additional Counterpart Suffixes***\n",
    "Add additional counterpart suffixes that Xcode should consider in the \"Related Items > Counterparts\" menu."
   ]
  },
  {
   "cell_type": "code",
   "execution_count": null,
   "metadata": {
    "vscode": {
     "languageId": "shellscript"
    }
   },
   "outputs": [],
   "source": [
    "### Read current value\n",
    "defaults read com.apple.dt.Xcode \"IDEAdditionalCounterpartSuffixes\"\n",
    "### Add \"ViewModel\" and \"View\" counterpart suffixes\n",
    "defaults write com.apple.dt.Xcode \"IDEAdditionalCounterpartSuffixes\" -array-add \"ViewModel\" \"View\" && killall Xcode\n",
    "### Add the \"Router\", \"Interactor\" and \"Builder\" counterpart suffixes\n",
    "defaults write com.apple.dt.Xcode \"IDEAdditionalCounterpartSuffixes\" -array-add \"Router\" \"Interactor\" \"Builder\" && killall Xcode\n",
    "### Reset to default value\n",
    "defaults delete com.apple.dt.Xcode \"IDEAdditionalCounterpartSuffixes\" && killall Xcode"
   ]
  },
  {
   "cell_type": "markdown",
   "metadata": {},
   "source": [
    "***Show Build Durations***\n",
    "Show build durations in the Activity Viewer in Xcode's toolbar at the top of the workspace window."
   ]
  },
  {
   "cell_type": "code",
   "execution_count": null,
   "metadata": {
    "vscode": {
     "languageId": "shellscript"
    }
   },
   "outputs": [],
   "source": [
    "### Read current value\n",
    "defaults read com.apple.dt.Xcode \"ShowBuildOperationDuration\"\n",
    "### Set to false (default value) - Do not show the build duration in the Xcode's toolbar\n",
    "defaults write com.apple.dt.Xcode \"ShowBuildOperationDuration\" -bool \"false\" && killall Xcode\n",
    "### Reset to default value\n",
    "defaults delete com.apple.dt.Xcode \"ShowBuildOperationDuration\" && killall Xcode"
   ]
  },
  {
   "cell_type": "markdown",
   "metadata": {},
   "source": [
    "### Simulator\n",
    "Installed as part of the Xcode tools, Simulator is a Mac app simulating iPhone, iPad, Apple Watch, or Apple TV environments."
   ]
  },
  {
   "cell_type": "markdown",
   "metadata": {},
   "source": [
    "***Set screenshot location***"
   ]
  },
  {
   "cell_type": "code",
   "execution_count": null,
   "metadata": {
    "vscode": {
     "languageId": "shellscript"
    }
   },
   "outputs": [],
   "source": [
    "### Read current value\n",
    "defaults read com.apple.iphonesimulator \"ScreenShotSaveLocation\"\n",
    "### Set to ~/Pictures/Screenshots (default value)\n",
    "defaults write com.apple.iphonesimulator \"ScreenShotSaveLocation\" -string \"~/Pictures/Screenshots\" \n",
    "### Reset to default value\n",
    "defaults delete com.apple.iphonesimulator \"ScreenShotSaveLocation\""
   ]
  },
  {
   "cell_type": "markdown",
   "metadata": {},
   "source": [
    "### TextEdit\n",
    "TextEdit allows you to open and edit rich text, plain text and HTML documents."
   ]
  },
  {
   "cell_type": "markdown",
   "metadata": {},
   "source": [
    "***Set default document format***\n",
    "Set default document format as rich text (.rtf) or plain text (.txt)."
   ]
  },
  {
   "cell_type": "code",
   "execution_count": null,
   "metadata": {
    "vscode": {
     "languageId": "shellscript"
    }
   },
   "outputs": [],
   "source": [
    "### Read current value\n",
    "defaults read com.apple.TextEdit RichText\n",
    "### Set to true (default value) - Rich text is enabled.\n",
    "defaults write com.apple.TextEdit RichText -bool true && killall TextEdit\n",
    "### Reset to default value\n",
    "defaults delete com.apple.TextEdit RichText && killall TextEdit"
   ]
  },
  {
   "cell_type": "markdown",
   "metadata": {},
   "source": [
    "***# Open and save files as UTF-8 in TextEdit***"
   ]
  },
  {
   "cell_type": "code",
   "execution_count": null,
   "metadata": {
    "vscode": {
     "languageId": "shellscript"
    }
   },
   "outputs": [],
   "source": [
    "### Read current value\n",
    "defaults read com.apple.TextEdit PlainTextEncoding\n",
    "defaults read com.apple.TextEdit PlainTextEncodingForWrite\n",
    "### Set to 4\n",
    "defaults write com.apple.TextEdit PlainTextEncoding -int 4\n",
    "defaults write com.apple.TextEdit PlainTextEncodingForWrite -int 4\n",
    "### Reset to default value\n",
    "defaults delete com.apple.TextEdit PlainTextEncoding\n",
    "defaults delete com.apple.TextEdit PlainTextEncodingForWrite"
   ]
  },
  {
   "cell_type": "markdown",
   "metadata": {},
   "source": [
    "### Time Machine"
   ]
  },
  {
   "cell_type": "markdown",
   "metadata": {},
   "source": [
    "***Don't offer new disks for Time Machine backup***"
   ]
  },
  {
   "cell_type": "code",
   "execution_count": null,
   "metadata": {
    "vscode": {
     "languageId": "shellscript"
    }
   },
   "outputs": [],
   "source": [
    "### Read current value\n",
    "defaults read com.apple.TimeMachine \"DoNotOfferNewDisksForBackup\"\n",
    "### Set to false (default value) - When a new disk is connected, system prompts to ask if you want to use it as a backup volume.\n",
    "defaults write com.apple.TimeMachine \"DoNotOfferNewDisksForBackup\" -bool \"false\" \n",
    "### Reset to default value\n",
    "defaults delete com.apple.TimeMachine \"DoNotOfferNewDisksForBackup\""
   ]
  },
  {
   "cell_type": "markdown",
   "metadata": {},
   "source": [
    "### Activity Monitor\n",
    "Activity Monitor is the built-in utility for monitoring your systems resource usage, such as CPU, RAM, Disk, Network, and Energy."
   ]
  },
  {
   "cell_type": "markdown",
   "metadata": {},
   "source": [
    "***Update Frequency***"
   ]
  },
  {
   "cell_type": "code",
   "execution_count": null,
   "metadata": {
    "vscode": {
     "languageId": "shellscript"
    }
   },
   "outputs": [],
   "source": [
    "### Read current value\n",
    "defaults read com.apple.ActivityMonitor UpdatePeriod\n",
    "### Set to 5s (default value)\n",
    "defaults write com.apple.ActivityMonitor UpdatePeriod -int 5 && killall Activity\\ Monitor\n",
    "### Reset to default value\n",
    "defaults delete com.apple.ActivityMonitor UpdatePeriod && killall Activity\\ Monitor"
   ]
  },
  {
   "cell_type": "markdown",
   "metadata": {},
   "source": [
    "***Dock Icon type***\n",
    "* 0 - Just show the App's regular icon.\n",
    "* 2 - Show Network usage over time, as two mirrored line graphs. The top (blue) chart shows down-stream traffic. The bottom (red) chart shows up-stream traffic.\n",
    "* 3 - Show Disk usage over time, as two mirrored line graphs. The top (blue) chart shows disk read traffic. The bottom (red) chart shows disk write traffic.\n",
    "* 5 - Show the current CPU usages, as a verticle meter.\n",
    "* 6 - Show CPU usage history, graphed over time. If your device has 4 threads or less, it'll show one graph per thread, all stacked vertically. If you have more than 4 threads, then only one bar graph will be shown, for the total CPU usage."
   ]
  },
  {
   "cell_type": "code",
   "execution_count": null,
   "metadata": {
    "vscode": {
     "languageId": "shellscript"
    }
   },
   "outputs": [],
   "source": [
    "### Read current value\n",
    "defaults read com.apple.ActivityMonitor IconType\n",
    "### Set to 0 (default value)\n",
    "defaults write com.apple.ActivityMonitor IconType -int 0 && killall Activity\\ Monitor\n",
    "### Reset to default value\n",
    "defaults delete com.apple.ActivityMonitor IconType && killall Activity\\ Monitor"
   ]
  },
  {
   "cell_type": "markdown",
   "metadata": {},
   "source": [
    "***Show the main window when launching Activity Monitor***"
   ]
  },
  {
   "cell_type": "code",
   "execution_count": null,
   "metadata": {
    "vscode": {
     "languageId": "shellscript"
    }
   },
   "outputs": [],
   "source": [
    "### Read current value\n",
    "defaults read com.apple.ActivityMonitor OpenMainWindow\n",
    "### Set to true\n",
    "defaults write com.apple.ActivityMonitor OpenMainWindow -bool true && killall Activity\\ Monitor\n",
    "### Reset to default value\n",
    "defaults delete com.apple.ActivityMonitor OpenMainWindow && killall Activity\\ Monitor"
   ]
  },
  {
   "cell_type": "markdown",
   "metadata": {},
   "source": [
    "***Show all processes in Activity Monitor***"
   ]
  },
  {
   "cell_type": "code",
   "execution_count": null,
   "metadata": {
    "vscode": {
     "languageId": "shellscript"
    }
   },
   "outputs": [],
   "source": [
    "### Read current value\n",
    "defaults read com.apple.ActivityMonitor ShowCategory\n",
    "### Set to 0\n",
    "defaults write com.apple.ActivityMonitor ShowCategory -int 0 && killall Activity\\ Monitor\n",
    "### Reset to default value\n",
    "defaults delete com.apple.ActivityMonitor ShowCategory && killall Activity\\ Monitor"
   ]
  },
  {
   "cell_type": "markdown",
   "metadata": {},
   "source": [
    "***Sort Activity Monitor results by CPU usage***"
   ]
  },
  {
   "cell_type": "code",
   "execution_count": null,
   "metadata": {
    "vscode": {
     "languageId": "shellscript"
    }
   },
   "outputs": [],
   "source": [
    "### Read current value\n",
    "defaults read com.apple.ActivityMonitor SortColumn\n",
    "defaults read com.apple.ActivityMonitor SortDirection\n",
    "### Set to\n",
    "defaults write com.apple.ActivityMonitor SortColumn -string \"CPUUsage\"\n",
    "defaults write com.apple.ActivityMonitor SortDirection -int 0\n",
    "### Reset to default value\n",
    "defaults delete com.apple.ActivityMonitor SortColumn\n",
    "defaults delete com.apple.ActivityMonitor SortDirection"
   ]
  },
  {
   "cell_type": "markdown",
   "metadata": {},
   "source": [
    "### Address Book, iCal and Disk Utility"
   ]
  },
  {
   "cell_type": "markdown",
   "metadata": {},
   "source": [
    "***Enable the debug menu in Address Book***"
   ]
  },
  {
   "cell_type": "code",
   "execution_count": null,
   "metadata": {
    "vscode": {
     "languageId": "shellscript"
    }
   },
   "outputs": [],
   "source": [
    "### Read current value\n",
    "defaults read com.apple.addressbook ABShowDebugMenu\n",
    "### Set to true\n",
    "defaults write com.apple.addressbook ABShowDebugMenu -bool true\n",
    "### Reset to default value\n",
    "defaults delete com.apple.addressbook ABShowDebugMenu"
   ]
  },
  {
   "cell_type": "markdown",
   "metadata": {},
   "source": [
    "***Enable the debug menu in iCal (pre-10.8)***"
   ]
  },
  {
   "cell_type": "code",
   "execution_count": null,
   "metadata": {
    "vscode": {
     "languageId": "shellscript"
    }
   },
   "outputs": [],
   "source": [
    "### Read current value\n",
    "defaults read com.apple.iCal IncludeDebugMenu\n",
    "### Set to true\n",
    "defaults write com.apple.iCal IncludeDebugMenu -bool true\n",
    "### Reset to default value\n",
    "defaults delete com.apple.iCal IncludeDebugMenu"
   ]
  },
  {
   "cell_type": "markdown",
   "metadata": {},
   "source": [
    "***Enable the debug menu in Disk Utility***"
   ]
  },
  {
   "cell_type": "code",
   "execution_count": null,
   "metadata": {
    "vscode": {
     "languageId": "shellscript"
    }
   },
   "outputs": [],
   "source": [
    "### Read current value\n",
    "defaults read com.apple.DiskUtility DUDebugMenuEnabled\n",
    "defaults read com.apple.DiskUtility advanced-image-options\n",
    "### Set to true\n",
    "defaults write com.apple.DiskUtility DUDebugMenuEnabled -bool true\n",
    "defaults write com.apple.DiskUtility advanced-image-options -bool true\n",
    "### Reset to default value\n",
    "defaults delete com.apple.DiskUtility DUDebugMenuEnabled\n",
    "defaults delete com.apple.DiskUtility advanced-image-options"
   ]
  },
  {
   "cell_type": "markdown",
   "metadata": {},
   "source": [
    "***Auto-play videos when opened with QuickTime Player***"
   ]
  },
  {
   "cell_type": "code",
   "execution_count": null,
   "metadata": {
    "vscode": {
     "languageId": "shellscript"
    }
   },
   "outputs": [],
   "source": [
    "### Read current value\n",
    "defaults read com.apple.QuickTimePlayerX MGPlayMovieOnOpen\n",
    "### Set to true\n",
    "defaults write com.apple.QuickTimePlayerX MGPlayMovieOnOpen -bool true\n",
    "### Reset to default value\n",
    "defaults delete com.apple.QuickTimePlayerX MGPlayMovieOnOpen"
   ]
  },
  {
   "cell_type": "markdown",
   "metadata": {},
   "source": [
    "### Terminal & iTerm 2 "
   ]
  },
  {
   "cell_type": "markdown",
   "metadata": {},
   "source": [
    "***Only use UTF-8 in Terminal.app***"
   ]
  },
  {
   "cell_type": "code",
   "execution_count": null,
   "metadata": {
    "vscode": {
     "languageId": "shellscript"
    }
   },
   "outputs": [],
   "source": [
    "### Read current value\n",
    "defaults read com.apple.terminal StringEncodings\n",
    "### Set to 4\n",
    "defaults write com.apple.terminal StringEncodings -array 4\n",
    "### Reset to default value\n",
    "defaults delete com.apple.terminal StringEncodings"
   ]
  },
  {
   "cell_type": "markdown",
   "metadata": {},
   "source": [
    "***Enable “focus follows mouse” for Terminal.app and all X11 apps***\n",
    "i.e. hover over a window and start typing in it without clicking first"
   ]
  },
  {
   "cell_type": "code",
   "execution_count": null,
   "metadata": {
    "vscode": {
     "languageId": "shellscript"
    }
   },
   "outputs": [],
   "source": [
    "### Read current value\n",
    "defaults read com.apple.terminal FocusFollowsMouse\n",
    "defaults read org.x.X11 wm_ffm\n",
    "### Set to true\n",
    "defaults write com.apple.terminal FocusFollowsMouse -bool true\n",
    "defaults write org.x.X11 wm_ffm -bool true\n",
    "### Reset to default value\n",
    "defaults delete com.apple.terminal FocusFollowsMouse\n",
    "defaults delete org.x.X11 wm_ffm"
   ]
  },
  {
   "cell_type": "markdown",
   "metadata": {},
   "source": [
    "***Enable Secure Keyboard Entry in Terminal.app***\n",
    "See: https://security.stackexchange.com/a/47786/8918"
   ]
  },
  {
   "cell_type": "code",
   "execution_count": null,
   "metadata": {
    "vscode": {
     "languageId": "shellscript"
    }
   },
   "outputs": [],
   "source": [
    "### Read current value\n",
    "defaults read com.apple.terminal SecureKeyboardEntry\n",
    "### Set to true\n",
    "defaults write com.apple.terminal SecureKeyboardEntry -bool true\n",
    "### Reset to default value\n",
    "defaults delete com.apple.terminal SecureKeyboardEntry"
   ]
  },
  {
   "cell_type": "markdown",
   "metadata": {},
   "source": [
    "***Disable the annoying line marks***"
   ]
  },
  {
   "cell_type": "code",
   "execution_count": null,
   "metadata": {
    "vscode": {
     "languageId": "shellscript"
    }
   },
   "outputs": [],
   "source": [
    "### Read current value\n",
    "defaults read com.apple.Terminal ShowLineMarks\n",
    "### Set to 0\n",
    "defaults write com.apple.Terminal ShowLineMarks -int 0\n",
    "### Reset to default value\n",
    "defaults delete com.apple.Terminal ShowLineMarks"
   ]
  },
  {
   "cell_type": "markdown",
   "metadata": {},
   "source": [
    "***Don’t display the annoying prompt when quitting iTerm***"
   ]
  },
  {
   "cell_type": "code",
   "execution_count": null,
   "metadata": {
    "vscode": {
     "languageId": "shellscript"
    }
   },
   "outputs": [],
   "source": [
    "### Read current value\n",
    "defaults read com.googlecode.iterm2 PromptOnQuit\n",
    "### Set to false\n",
    "defaults write com.googlecode.iterm2 PromptOnQuit -bool false\n",
    "### Reset to default value\n",
    "defaults delete com.googlecode.iterm2 PromptOnQuit"
   ]
  },
  {
   "cell_type": "markdown",
   "metadata": {},
   "source": [
    "### Miscellaneous"
   ]
  },
  {
   "cell_type": "markdown",
   "metadata": {},
   "source": [
    "***Help Menu position***"
   ]
  },
  {
   "cell_type": "code",
   "execution_count": null,
   "metadata": {
    "vscode": {
     "languageId": "shellscript"
    }
   },
   "outputs": [],
   "source": [
    "### Read current value\n",
    "defaults read com.apple.helpviewer DevMode\n",
    "### Set to false (default value) - By default, the Help Menu is always-on-top\n",
    "defaults write com.apple.helpviewer DevMode -bool false\n",
    "### Reset to default value\n",
    "defaults delete com.apple.helpviewer DevMode"
   ]
  },
  {
   "cell_type": "markdown",
   "metadata": {},
   "source": [
    "***Enable spring loading for all Dock items***\n",
    "Drag a file over an icon in the Dock, hover, and the application will open. The behaviour is unchanged if the app is already open."
   ]
  },
  {
   "cell_type": "code",
   "execution_count": null,
   "metadata": {
    "vscode": {
     "languageId": "shellscript"
    }
   },
   "outputs": [],
   "source": [
    "### Read current value\n",
    "defaults read com.apple.dock \"enable-spring-load-actions-on-all-items\"\n",
    "### Set to false (default value) - Spring loading is disabled for Dock items.\n",
    "defaults write com.apple.dock \"enable-spring-load-actions-on-all-items\" -bool \"false\" && killall Dock\n",
    "### Reset to default value\n",
    "defaults delete com.apple.dock \"enable-spring-load-actions-on-all-items\" && killall Dock"
   ]
  },
  {
   "cell_type": "markdown",
   "metadata": {},
   "source": [
    "***Show indicator lights for open applications in the Dock***"
   ]
  },
  {
   "cell_type": "code",
   "execution_count": null,
   "metadata": {
    "vscode": {
     "languageId": "shellscript"
    }
   },
   "outputs": [],
   "source": [
    "### Read current value\n",
    "defaults read com.apple.dock show-process-indicators\n",
    "### Set to true\n",
    "defaults write com.apple.dock show-process-indicators -bool true && killall Dock\n",
    "### Reset to default value\n",
    "defaults delete com.apple.dock show-process-indicators && killall Dock"
   ]
  },
  {
   "cell_type": "markdown",
   "metadata": {},
   "source": [
    "***Wipe all (default) app icons from the Dock***\n",
    "This is only really useful when setting up a new Mac, or if you don’t use the Dock to launch apps."
   ]
  },
  {
   "cell_type": "code",
   "execution_count": null,
   "metadata": {
    "vscode": {
     "languageId": "shellscript"
    }
   },
   "outputs": [],
   "source": [
    "### Read current value\n",
    "defaults read com.apple.dock persistent-apps\n",
    "### Set to true\n",
    "defaults write com.apple.dock persistent-apps -array && killall Dock\n",
    "### Reset to default value\n",
    "defaults delete com.apple.dock persistent-apps && killall Dock"
   ]
  },
  {
   "cell_type": "markdown",
   "metadata": {},
   "source": [
    "***Show Music song notifications***"
   ]
  },
  {
   "cell_type": "code",
   "execution_count": null,
   "metadata": {
    "vscode": {
     "languageId": "shellscript"
    }
   },
   "outputs": [],
   "source": [
    "### Read current value\n",
    "defaults read com.apple.Music \"userWantsPlaybackNotifications\"\n",
    "### Set to false (default value) - Notifications will not be displayed.\n",
    "defaults write com.apple.Music \"userWantsPlaybackNotifications\" -bool \"false\" && killall Music\n",
    "### Reset to default value\n",
    "defaults delete com.apple.Music \"userWantsPlaybackNotifications\" && killall Music"
   ]
  },
  {
   "cell_type": "markdown",
   "metadata": {},
   "source": [
    "### General UI/UX"
   ]
  },
  {
   "cell_type": "markdown",
   "metadata": {},
   "source": [
    "***Disable transparency in the menu bar and elsewhere on Yosemite***"
   ]
  },
  {
   "cell_type": "code",
   "execution_count": null,
   "metadata": {
    "vscode": {
     "languageId": "shellscript"
    }
   },
   "outputs": [],
   "source": [
    "### Read current value\n",
    "defaults read com.apple.universalaccess reduceTransparency\n",
    "### Set to true\n",
    "defaults write com.apple.universalaccess reduceTransparency -bool true\n",
    "### Reset to default value\n",
    "defaults delete com.apple.universalaccess reduceTransparency"
   ]
  },
  {
   "cell_type": "markdown",
   "metadata": {},
   "source": [
    "***Set highlight color***"
   ]
  },
  {
   "cell_type": "code",
   "execution_count": null,
   "metadata": {
    "vscode": {
     "languageId": "shellscript"
    }
   },
   "outputs": [],
   "source": [
    "### Read current value\n",
    "defaults read NSGlobalDomain AppleHighlightColor\n",
    "### Set to green\n",
    "defaults write NSGlobalDomain AppleHighlightColor -string \"0.764700 0.976500 0.568600\"\n",
    "### Reset to default value\n",
    "defaults delete NSGlobalDomain AppleHighlightColor"
   ]
  },
  {
   "cell_type": "markdown",
   "metadata": {},
   "source": [
    "***Always show scrollbars***\n",
    "Possible values: \n",
    "* `WhenScrolling`\n",
    "* `Automatic`\n",
    "* `Always`"
   ]
  },
  {
   "cell_type": "code",
   "execution_count": null,
   "metadata": {
    "vscode": {
     "languageId": "shellscript"
    }
   },
   "outputs": [],
   "source": [
    "### Read current value\n",
    "defaults read NSGlobalDomain AppleShowScrollBars\n",
    "### Set to \"Always\"\n",
    "defaults write NSGlobalDomain AppleShowScrollBars -string \"Always\"\n",
    "### Reset to default value\n",
    "defaults delete NSGlobalDomain AppleShowScrollBars"
   ]
  },
  {
   "cell_type": "markdown",
   "metadata": {},
   "source": [
    "***Disable the over-the-top focus ring animation***"
   ]
  },
  {
   "cell_type": "code",
   "execution_count": null,
   "metadata": {
    "vscode": {
     "languageId": "shellscript"
    }
   },
   "outputs": [],
   "source": [
    "### Read current value\n",
    "defaults read NSGlobalDomain NSUseAnimatedFocusRing\n",
    "### Set to false\n",
    "defaults write NSGlobalDomain NSUseAnimatedFocusRing -bool false\n",
    "### Reset to default value\n",
    "defaults delete NSGlobalDomain NSUseAnimatedFocusRing"
   ]
  },
  {
   "cell_type": "markdown",
   "metadata": {},
   "source": [
    "***Adjust toolbar title rollover delay***"
   ]
  },
  {
   "cell_type": "code",
   "execution_count": null,
   "metadata": {
    "vscode": {
     "languageId": "shellscript"
    }
   },
   "outputs": [],
   "source": [
    "### Read current value\n",
    "defaults read NSGlobalDomain NSToolbarTitleViewRolloverDelay\n",
    "### Set to 0\n",
    "defaults write NSGlobalDomain NSToolbarTitleViewRolloverDelay -float 0\n",
    "### Reset to default value\n",
    "defaults delete NSGlobalDomain NSToolbarTitleViewRolloverDelay"
   ]
  },
  {
   "cell_type": "markdown",
   "metadata": {},
   "source": [
    "***Increase window resize speed for Cocoa applications***"
   ]
  },
  {
   "cell_type": "code",
   "execution_count": null,
   "metadata": {
    "vscode": {
     "languageId": "shellscript"
    }
   },
   "outputs": [],
   "source": [
    "### Read current value\n",
    "defaults read NSGlobalDomain NSWindowResizeTime\n",
    "### Set to 0.001\n",
    "defaults write NSGlobalDomain NSWindowResizeTime -float 0.001\n",
    "### Reset to default value\n",
    "defaults delete NSGlobalDomain NSWindowResizeTime"
   ]
  },
  {
   "cell_type": "markdown",
   "metadata": {},
   "source": [
    "***Expand save panel by default***"
   ]
  },
  {
   "cell_type": "code",
   "execution_count": null,
   "metadata": {
    "vscode": {
     "languageId": "shellscript"
    }
   },
   "outputs": [],
   "source": [
    "### Read current value\n",
    "defaults read NSGlobalDomain NSNavPanelExpandedStateForSaveMode\n",
    "defaults read NSGlobalDomain NSNavPanelExpandedStateForSaveMode2\n",
    "### Set to true\n",
    "defaults write NSGlobalDomain NSNavPanelExpandedStateForSaveMode -bool true\n",
    "defaults write NSGlobalDomain NSNavPanelExpandedStateForSaveMode2 -bool true\n",
    "### Reset to default value\n",
    "defaults delete NSGlobalDomain NSNavPanelExpandedStateForSaveMode\n",
    "defaults delete NSGlobalDomain NSNavPanelExpandedStateForSaveMode2"
   ]
  },
  {
   "cell_type": "markdown",
   "metadata": {},
   "source": [
    "***Expand print panel by default***"
   ]
  },
  {
   "cell_type": "code",
   "execution_count": null,
   "metadata": {
    "vscode": {
     "languageId": "shellscript"
    }
   },
   "outputs": [],
   "source": [
    "### Read current value\n",
    "defaults read NSGlobalDomain PMPrintingExpandedStateForPrint\n",
    "defaults read NSGlobalDomain PMPrintingExpandedStateForPrint2\n",
    "### Set to true\n",
    "defaults write NSGlobalDomain PMPrintingExpandedStateForPrint -bool true\n",
    "defaults write NSGlobalDomain PMPrintingExpandedStateForPrint2 -bool true\n",
    "### Reset to default value\n",
    "defaults delete NSGlobalDomain PMPrintingExpandedStateForPrint\n",
    "defaults delete NSGlobalDomain PMPrintingExpandedStateForPrint2"
   ]
  },
  {
   "cell_type": "markdown",
   "metadata": {},
   "source": [
    "***Automatically quit printer app once the print jobs complete***"
   ]
  },
  {
   "cell_type": "code",
   "execution_count": null,
   "metadata": {
    "vscode": {
     "languageId": "shellscript"
    }
   },
   "outputs": [],
   "source": [
    "### Read current value\n",
    "defaults read com.apple.print.PrintingPrefs \"Quit When Finished\"\n",
    "### Set to true\n",
    "defaults write com.apple.print.PrintingPrefs \"Quit When Finished\" -bool true\n",
    "### Reset to default value\n",
    "defaults delete com.apple.print.PrintingPrefs \"Quit When Finished\""
   ]
  },
  {
   "cell_type": "markdown",
   "metadata": {},
   "source": [
    "***Disable the “Are you sure you want to open this application?” dialog***"
   ]
  },
  {
   "cell_type": "code",
   "execution_count": null,
   "metadata": {
    "vscode": {
     "languageId": "shellscript"
    }
   },
   "outputs": [],
   "source": [
    "### Read current value\n",
    "defaults read com.apple.LaunchServices LSQuarantine\n",
    "### Set to false\n",
    "defaults write com.apple.LaunchServices LSQuarantine -bool false\n",
    "### Reset to default value\n",
    "defaults delete com.apple.LaunchServices LSQuarantine"
   ]
  },
  {
   "cell_type": "markdown",
   "metadata": {},
   "source": [
    "***Display ASCII control characters using caret notation in standard text views***\n",
    "Try e.g. `cd /tmp; unidecode \"\\x{0000}\" > cc.txt; open -e cc.txt`"
   ]
  },
  {
   "cell_type": "code",
   "execution_count": null,
   "metadata": {
    "vscode": {
     "languageId": "shellscript"
    }
   },
   "outputs": [],
   "source": [
    "### Read current value\n",
    "defaults read NSGlobalDomain NSTextShowsControlCharacters\n",
    "### Set to true\n",
    "defaults write NSGlobalDomain NSTextShowsControlCharacters -bool true\n",
    "### Reset to default value\n",
    "defaults delete NSGlobalDomain NSTextShowsControlCharacters"
   ]
  },
  {
   "cell_type": "markdown",
   "metadata": {},
   "source": [
    "***Disable Resume system-wide***"
   ]
  },
  {
   "cell_type": "code",
   "execution_count": null,
   "metadata": {
    "vscode": {
     "languageId": "shellscript"
    }
   },
   "outputs": [],
   "source": [
    "### Read current value\n",
    "defaults read com.apple.systempreferences NSQuitAlwaysKeepsWindows\n",
    "### Set to false\n",
    "defaults write com.apple.systempreferences NSQuitAlwaysKeepsWindows -bool false\n",
    "### Reset to default value\n",
    "defaults delete com.apple.systempreferences NSQuitAlwaysKeepsWindows"
   ]
  },
  {
   "cell_type": "markdown",
   "metadata": {},
   "source": [
    "***Disable automatic termination of inactive apps***"
   ]
  },
  {
   "cell_type": "code",
   "execution_count": null,
   "metadata": {
    "vscode": {
     "languageId": "shellscript"
    }
   },
   "outputs": [],
   "source": [
    "### Read current value\n",
    "defaults read NSGlobalDomain NSDisableAutomaticTermination\n",
    "### Set to true\n",
    "defaults write NSGlobalDomain NSDisableAutomaticTermination -bool true\n",
    "### Reset to default value\n",
    "defaults delete NSGlobalDomain NSDisableAutomaticTermination"
   ]
  },
  {
   "cell_type": "markdown",
   "metadata": {},
   "source": [
    "***Disable the crash reporter***"
   ]
  },
  {
   "cell_type": "code",
   "execution_count": null,
   "metadata": {
    "vscode": {
     "languageId": "shellscript"
    }
   },
   "outputs": [],
   "source": [
    "### Read current value\n",
    "defaults read com.apple.CrashReporter DialogType\n",
    "### Set to \"none\"\n",
    "defaults write com.apple.CrashReporter DialogType -string \"none\"\n",
    "### Reset to default value\n",
    "defaults delete com.apple.CrashReporter DialogType"
   ]
  },
  {
   "cell_type": "markdown",
   "metadata": {},
   "source": [
    "***Reveal IP address, hostname, OS version, etc. when clicking the clock in the login window***"
   ]
  },
  {
   "cell_type": "code",
   "execution_count": null,
   "metadata": {
    "vscode": {
     "languageId": "shellscript"
    }
   },
   "outputs": [],
   "source": [
    "### Read current value\n",
    "defaults read /Library/Preferences/com.apple.loginwindow\n",
    "### Set to true\n",
    "sudo defaults write /Library/Preferences/com.apple.loginwindow AdminHostInfo HostName\n",
    "### Reset to default value\n",
    "sudo defaults delete /Library/Preferences/com.apple.loginwindow AdminHostInfo"
   ]
  },
  {
   "cell_type": "markdown",
   "metadata": {},
   "source": [
    "***Disable automatic capitalization***"
   ]
  },
  {
   "cell_type": "code",
   "execution_count": null,
   "metadata": {
    "vscode": {
     "languageId": "shellscript"
    }
   },
   "outputs": [],
   "source": [
    "### Read current value\n",
    "defaults read NSGlobalDomain NSAutomaticCapitalizationEnabled\n",
    "### Set to false\n",
    "defaults write NSGlobalDomain NSAutomaticCapitalizationEnabled -bool false\n",
    "### Reset to default value\n",
    "defaults delete NSGlobalDomain NSAutomaticCapitalizationEnabled"
   ]
  },
  {
   "cell_type": "markdown",
   "metadata": {},
   "source": [
    "***Disable smart dashes***"
   ]
  },
  {
   "cell_type": "code",
   "execution_count": null,
   "metadata": {
    "vscode": {
     "languageId": "shellscript"
    }
   },
   "outputs": [],
   "source": [
    "### Read current value\n",
    "defaults read NSGlobalDomain NSAutomaticDashSubstitutionEnabled\n",
    "### Set to false\n",
    "defaults write NSGlobalDomain NSAutomaticDashSubstitutionEnabled -bool false\n",
    "### Reset to default value\n",
    "defaults delete NSGlobalDomain NSAutomaticDashSubstitutionEnabled"
   ]
  },
  {
   "cell_type": "markdown",
   "metadata": {},
   "source": [
    "***Disable automatic period substitution***"
   ]
  },
  {
   "cell_type": "code",
   "execution_count": null,
   "metadata": {
    "vscode": {
     "languageId": "shellscript"
    }
   },
   "outputs": [],
   "source": [
    "### Read current value\n",
    "defaults read NSGlobalDomain NSAutomaticPeriodSubstitutionEnabled\n",
    "### Set to false\n",
    "defaults write NSGlobalDomain NSAutomaticPeriodSubstitutionEnabled -bool false\n",
    "### Reset to default value\n",
    "defaults delete NSGlobalDomain NSAutomaticPeriodSubstitutionEnabled"
   ]
  },
  {
   "cell_type": "markdown",
   "metadata": {},
   "source": [
    "***Disable smart quotes***"
   ]
  },
  {
   "cell_type": "code",
   "execution_count": null,
   "metadata": {
    "vscode": {
     "languageId": "shellscript"
    }
   },
   "outputs": [],
   "source": [
    "### Read current value\n",
    "defaults read NSGlobalDomain NSAutomaticQuoteSubstitutionEnabled\n",
    "### Set to false\n",
    "defaults write NSGlobalDomain NSAutomaticQuoteSubstitutionEnabled -bool false\n",
    "### Reset to default value\n",
    "defaults delete NSGlobalDomain NSAutomaticQuoteSubstitutionEnabled"
   ]
  },
  {
   "cell_type": "markdown",
   "metadata": {},
   "source": [
    "***Disable auto-correct***"
   ]
  },
  {
   "cell_type": "code",
   "execution_count": null,
   "metadata": {
    "vscode": {
     "languageId": "shellscript"
    }
   },
   "outputs": [],
   "source": [
    "### Read current value\n",
    "defaults read NSGlobalDomain NSAutomaticSpellingCorrectionEnabled\n",
    "### Set to false\n",
    "defaults write NSGlobalDomain NSAutomaticSpellingCorrectionEnabled -bool false\n",
    "### Reset to default value\n",
    "defaults delete NSGlobalDomain NSAutomaticSpellingCorrectionEnabled"
   ]
  },
  {
   "cell_type": "markdown",
   "metadata": {},
   "source": [
    "### Trackpad, mouse, keyboard, Bluetooth accessories, and input"
   ]
  },
  {
   "cell_type": "markdown",
   "metadata": {},
   "source": [
    "***Trackpad: enable tap to click for this user and for the login screen***"
   ]
  },
  {
   "cell_type": "code",
   "execution_count": null,
   "metadata": {
    "vscode": {
     "languageId": "shellscript"
    }
   },
   "outputs": [],
   "source": [
    "### Read current value\n",
    "defaults read com.apple.driver.AppleBluetoothMultitouch.trackpad Clicking\n",
    "defaults -currentHost read NSGlobalDomain com.apple.mouse.tapBehavior\n",
    "defaults read NSGlobalDomain com.apple.mouse.tapBehavior\n",
    "### Set to true\n",
    "defaults write com.apple.driver.AppleBluetoothMultitouch.trackpad Clicking -bool true\n",
    "### Set to 1\n",
    "defaults -currentHost write NSGlobalDomain com.apple.mouse.tapBehavior -int 1\n",
    "### Set to 1\n",
    "defaults write NSGlobalDomain com.apple.mouse.tapBehavior -int 1\n",
    "### Reset to default value\n",
    "defaults delete com.apple.driver.AppleBluetoothMultitouch.trackpad Clicking\n",
    "defaults -currentHost delete NSGlobalDomain com.apple.mouse.tapBehavior\n",
    "defaults delete NSGlobalDomain com.apple.mouse.tapBehavior\n"
   ]
  },
  {
   "cell_type": "markdown",
   "metadata": {},
   "source": [
    "***Trackpad: map bottom right corner to right-click***"
   ]
  },
  {
   "cell_type": "code",
   "execution_count": null,
   "metadata": {
    "vscode": {
     "languageId": "shellscript"
    }
   },
   "outputs": [],
   "source": [
    "### Read current value\n",
    "defaults read com.apple.driver.AppleBluetoothMultitouch.trackpad TrackpadCornerSecondaryClick\n",
    "defaults read com.apple.driver.AppleBluetoothMultitouch.trackpad TrackpadRightClick\n",
    "defaults -currentHost read NSGlobalDomain com.apple.trackpad.trackpadCornerClickBehavior\n",
    "defaults -currentHost read NSGlobalDomain com.apple.trackpad.enableSecondaryClick\n",
    "### Set to \n",
    "defaults write com.apple.driver.AppleBluetoothMultitouch.trackpad TrackpadCornerSecondaryClick -int 2\n",
    "defaults write com.apple.driver.AppleBluetoothMultitouch.trackpad TrackpadRightClick -bool true\n",
    "defaults -currentHost write NSGlobalDomain com.apple.trackpad.trackpadCornerClickBehavior -int 1\n",
    "defaults -currentHost write NSGlobalDomain com.apple.trackpad.enableSecondaryClick -bool true\n",
    "### Reset to default value\n",
    "defaults delete com.apple.driver.AppleBluetoothMultitouch.trackpad TrackpadCornerSecondaryClick\n",
    "defaults delete com.apple.driver.AppleBluetoothMultitouch.trackpad TrackpadRightClick\n",
    "defaults -currentHost delete NSGlobalDomain com.apple.trackpad.trackpadCornerClickBehavior\n",
    "defaults -currentHost delete NSGlobalDomain com.apple.trackpad.enableSecondaryClick"
   ]
  },
  {
   "cell_type": "markdown",
   "metadata": {},
   "source": [
    "***Disable “natural” (Lion-style) scrolling***"
   ]
  },
  {
   "cell_type": "code",
   "execution_count": null,
   "metadata": {
    "vscode": {
     "languageId": "shellscript"
    }
   },
   "outputs": [],
   "source": [
    "### Read current value\n",
    "defaults read NSGlobalDomain com.apple.swipescrolldirection\n",
    "### Set to false\n",
    "defaults write NSGlobalDomain com.apple.swipescrolldirection -bool false\n",
    "### Reset to default value\n",
    "defaults delete NSGlobalDomain com.apple.swipescrolldirection"
   ]
  },
  {
   "cell_type": "markdown",
   "metadata": {},
   "source": [
    "***Increase sound quality for Bluetooth headphones/headsets***"
   ]
  },
  {
   "cell_type": "code",
   "execution_count": null,
   "metadata": {
    "vscode": {
     "languageId": "shellscript"
    }
   },
   "outputs": [],
   "source": [
    "### Read current value\n",
    "defaults read com.apple.BluetoothAudioAgent \"Apple Bitpool Min (editable)\"\n",
    "### Set to 40\n",
    "defaults write com.apple.BluetoothAudioAgent \"Apple Bitpool Min (editable)\" -int 40\n",
    "### Reset to default value\n",
    "defaults delete com.apple.BluetoothAudioAgent \"Apple Bitpool Min (editable)\""
   ]
  },
  {
   "cell_type": "markdown",
   "metadata": {},
   "source": [
    "***Enable full keyboard access for all controls***\n",
    "(e.g. enable Tab in modal dialogs)"
   ]
  },
  {
   "cell_type": "code",
   "execution_count": null,
   "metadata": {
    "vscode": {
     "languageId": "shellscript"
    }
   },
   "outputs": [],
   "source": [
    "### Read current value\n",
    "defaults read NSGlobalDomain AppleKeyboardUIMode\n",
    "### Set to 3\n",
    "defaults write NSGlobalDomain AppleKeyboardUIMode -int 3\n",
    "### Reset to default value\n",
    "defaults delete NSGlobalDomain AppleKeyboardUIMode"
   ]
  },
  {
   "cell_type": "markdown",
   "metadata": {},
   "source": [
    "***Use scroll gesture with the Ctrl (^) modifier key to zoom***"
   ]
  },
  {
   "cell_type": "code",
   "execution_count": null,
   "metadata": {
    "vscode": {
     "languageId": "shellscript"
    }
   },
   "outputs": [],
   "source": [
    "### Read current value\n",
    "defaults read com.apple.universalaccess closeViewScrollWheelToggle\n",
    "defaults read com.apple.universalaccess HIDScrollZoomModifierMask\n",
    "### Set to\n",
    "defaults write com.apple.universalaccess closeViewScrollWheelToggle -bool true\n",
    "defaults write com.apple.universalaccess HIDScrollZoomModifierMask -int 262144\n",
    "### Reset to default value\n",
    "defaults delete com.apple.universalaccess closeViewScrollWheelToggle\n",
    "defaults delete com.apple.universalaccess HIDScrollZoomModifierMask"
   ]
  },
  {
   "cell_type": "markdown",
   "metadata": {},
   "source": [
    "***Follow the keyboard focus while zoomed in***"
   ]
  },
  {
   "cell_type": "code",
   "execution_count": null,
   "metadata": {
    "vscode": {
     "languageId": "shellscript"
    }
   },
   "outputs": [],
   "source": [
    "### Read current value\n",
    "defaults read com.apple.universalaccess closeViewZoomFollowsFocus\n",
    "### Set to true\n",
    "defaults write com.apple.universalaccess closeViewZoomFollowsFocus -bool true\n",
    "### Reset to default value\n",
    "defaults delete com.apple.universalaccess closeViewZoomFollowsFocus"
   ]
  },
  {
   "cell_type": "markdown",
   "metadata": {},
   "source": [
    "***Disable press-and-hold for keys in favor of key repeat***"
   ]
  },
  {
   "cell_type": "code",
   "execution_count": null,
   "metadata": {
    "vscode": {
     "languageId": "shellscript"
    }
   },
   "outputs": [],
   "source": [
    "### Read current value\n",
    "defaults read NSGlobalDomain ApplePressAndHoldEnabled\n",
    "### Set to false\n",
    "defaults write NSGlobalDomain ApplePressAndHoldEnabled -bool false\n",
    "### Reset to default value\n",
    "defaults delete NSGlobalDomain ApplePressAndHoldEnabled"
   ]
  },
  {
   "cell_type": "markdown",
   "metadata": {},
   "source": [
    "***Set a blazingly fast keyboard repeat rate***"
   ]
  },
  {
   "cell_type": "code",
   "execution_count": null,
   "metadata": {
    "vscode": {
     "languageId": "shellscript"
    }
   },
   "outputs": [],
   "source": [
    "### Read current value\n",
    "defaults read NSGlobalDomain KeyRepeat\n",
    "defaults read NSGlobalDomain InitialKeyRepeat\n",
    "### Set to \n",
    "defaults write NSGlobalDomain KeyRepeat -int 1\n",
    "defaults write NSGlobalDomain InitialKeyRepeat -int 10\n",
    "### Reset to default value\n",
    "defaults delete NSGlobalDomain KeyRepeat\n",
    "defaults delete NSGlobalDomain InitialKeyRepeat"
   ]
  },
  {
   "cell_type": "markdown",
   "metadata": {},
   "source": [
    "***Set language and text formats***"
   ]
  },
  {
   "cell_type": "code",
   "execution_count": null,
   "metadata": {
    "vscode": {
     "languageId": "shellscript"
    }
   },
   "outputs": [],
   "source": [
    "### Read current value\n",
    "defaults read NSGlobalDomain AppleLanguages\n",
    "defaults read NSGlobalDomain AppleLocale\n",
    "defaults read NSGlobalDomain AppleMeasurementUnits\n",
    "defaults read NSGlobalDomain AppleMetricUnits\n",
    "### Set to \n",
    "defaults write NSGlobalDomain AppleLanguages -array \"en-US\" \"pl-US\"\n",
    "defaults write NSGlobalDomain AppleLocale -string \"en_US@currency=USD\"\n",
    "defaults write NSGlobalDomain AppleMeasurementUnits -string \"Inches\"\n",
    "defaults write NSGlobalDomain AppleMetricUnits -bool false\n",
    "### Reset to default value\n",
    "defaults delete NSGlobalDomain AppleLanguages\n",
    "defaults delete NSGlobalDomain AppleLocale\n",
    "defaults delete NSGlobalDomain AppleMeasurementUnits\n",
    "defaults delete NSGlobalDomain AppleMetricUnits"
   ]
  },
  {
   "cell_type": "markdown",
   "metadata": {},
   "source": [
    "***Show language menu in the top right corner of the boot screen***\n"
   ]
  },
  {
   "cell_type": "code",
   "execution_count": null,
   "metadata": {
    "vscode": {
     "languageId": "shellscript"
    }
   },
   "outputs": [],
   "source": [
    "### Read current value\n",
    "defaults read /Library/Preferences/com.apple.loginwindow showInputMenu\n",
    "### Set to false\n",
    "sudo defaults write /Library/Preferences/com.apple.loginwindow showInputMenu -bool true\n",
    "### Reset to default value\n",
    "sudo defaults delete /Library/Preferences/com.apple.loginwindow showInputMenu"
   ]
  },
  {
   "cell_type": "markdown",
   "metadata": {},
   "source": [
    "### Screen"
   ]
  },
  {
   "cell_type": "markdown",
   "metadata": {},
   "source": [
    "***Require password immediately after sleep or screen saver begins***"
   ]
  },
  {
   "cell_type": "code",
   "execution_count": null,
   "metadata": {
    "vscode": {
     "languageId": "shellscript"
    }
   },
   "outputs": [],
   "source": [
    "### Read current value\n",
    "defaults read com.apple.screensaver askForPassword\n",
    "defaults read com.apple.screensaver askForPasswordDelay\n",
    "### Set to \n",
    "defaults write com.apple.screensaver askForPassword -int 1\n",
    "defaults write com.apple.screensaver askForPasswordDelay -int 0\n",
    "### Reset to default value\n",
    "defaults delete com.apple.screensaver askForPassword\n",
    "defaults delete com.apple.screensaver askForPasswordDelay"
   ]
  },
  {
   "cell_type": "markdown",
   "metadata": {},
   "source": [
    "***Enable subpixel font rendering on non-Apple LCDs***\n",
    "Reference: https://github.com/kevinSuttle/macOS-Defaults/issues/17#issuecomment-266633501"
   ]
  },
  {
   "cell_type": "code",
   "execution_count": null,
   "metadata": {
    "vscode": {
     "languageId": "shellscript"
    }
   },
   "outputs": [],
   "source": [
    "### Read current value\n",
    "defaults read NSGlobalDomain AppleFontSmoothing\n",
    "### Set to 1\n",
    "defaults write NSGlobalDomain AppleFontSmoothing -int 1\n",
    "### Reset to default value\n",
    "defaults delete NSGlobalDomain AppleFontSmoothing"
   ]
  },
  {
   "cell_type": "markdown",
   "metadata": {},
   "source": [
    "***Enable HiDPI display modes (requires restart)***\n"
   ]
  },
  {
   "cell_type": "code",
   "execution_count": null,
   "metadata": {
    "vscode": {
     "languageId": "shellscript"
    }
   },
   "outputs": [],
   "source": [
    "### Read current value\n",
    "defaults read /Library/Preferences/com.apple.windowserver DisplayResolutionEnabled\n",
    "### Set to 1\n",
    "sudo defaults write /Library/Preferences/com.apple.windowserver DisplayResolutionEnabled -bool true\n",
    "### Reset to default value\n",
    "sudo defaults delete /Library/Preferences/com.apple.windowserver DisplayResolutionEnabled"
   ]
  },
  {
   "cell_type": "markdown",
   "metadata": {},
   "source": [
    "### Mac App Store"
   ]
  },
  {
   "cell_type": "markdown",
   "metadata": {},
   "source": [
    "***Enable the WebKit Developer Tools in the Mac App Store***"
   ]
  },
  {
   "cell_type": "code",
   "execution_count": null,
   "metadata": {
    "vscode": {
     "languageId": "shellscript"
    }
   },
   "outputs": [],
   "source": [
    "### Read current value\n",
    "defaults read com.apple.appstore WebKitDeveloperExtras\n",
    "### Set to true\n",
    "defaults write com.apple.appstore WebKitDeveloperExtras -bool true\n",
    "### Reset to default value\n",
    "defaults delete com.apple.appstore WebKitDeveloperExtras"
   ]
  },
  {
   "cell_type": "markdown",
   "metadata": {},
   "source": [
    "***Enable Debug Menu in the Mac App Store***"
   ]
  },
  {
   "cell_type": "code",
   "execution_count": null,
   "metadata": {
    "vscode": {
     "languageId": "shellscript"
    }
   },
   "outputs": [],
   "source": [
    "### Read current value\n",
    "defaults read com.apple.appstore ShowDebugMenu\n",
    "### Set to true\n",
    "defaults write com.apple.appstore ShowDebugMenu -bool true\n",
    "### Reset to default value\n",
    "defaults delete com.apple.appstore ShowDebugMenu"
   ]
  },
  {
   "cell_type": "markdown",
   "metadata": {},
   "source": [
    "***Enable the automatic update check***"
   ]
  },
  {
   "cell_type": "code",
   "execution_count": null,
   "metadata": {
    "vscode": {
     "languageId": "shellscript"
    }
   },
   "outputs": [],
   "source": [
    "### Read current value\n",
    "defaults read com.apple.SoftwareUpdate AutomaticCheckEnabled\n",
    "### Set to true\n",
    "defaults write com.apple.SoftwareUpdate AutomaticCheckEnabled -bool true\n",
    "### Reset to default value\n",
    "defaults delete com.apple.SoftwareUpdate AutomaticCheckEnabled"
   ]
  },
  {
   "cell_type": "markdown",
   "metadata": {},
   "source": [
    "***Check for software updates daily, not just once per week***"
   ]
  },
  {
   "cell_type": "code",
   "execution_count": null,
   "metadata": {
    "vscode": {
     "languageId": "shellscript"
    }
   },
   "outputs": [],
   "source": [
    "### Read current value\n",
    "defaults read com.apple.SoftwareUpdate ScheduleFrequency\n",
    "### Set to 1\n",
    "defaults write com.apple.SoftwareUpdate ScheduleFrequency -int 1\n",
    "### Reset to default value\n",
    "defaults delete com.apple.SoftwareUpdate ScheduleFrequency"
   ]
  },
  {
   "cell_type": "markdown",
   "metadata": {},
   "source": [
    "***Download newly available updates in background***"
   ]
  },
  {
   "cell_type": "code",
   "execution_count": null,
   "metadata": {
    "vscode": {
     "languageId": "shellscript"
    }
   },
   "outputs": [],
   "source": [
    "### Read current value\n",
    "defaults read com.apple.SoftwareUpdate AutomaticDownload\n",
    "### Set to 1\n",
    "defaults write com.apple.SoftwareUpdate AutomaticDownload -int 1\n",
    "### Reset to default value\n",
    "defaults delete com.apple.SoftwareUpdate AutomaticDownload"
   ]
  },
  {
   "cell_type": "markdown",
   "metadata": {},
   "source": [
    "***Install System data files & security updates***"
   ]
  },
  {
   "cell_type": "code",
   "execution_count": null,
   "metadata": {
    "vscode": {
     "languageId": "shellscript"
    }
   },
   "outputs": [],
   "source": [
    "### Read current value\n",
    "defaults read com.apple.SoftwareUpdate CriticalUpdateInstall\n",
    "### Set to 1\n",
    "defaults write com.apple.SoftwareUpdate CriticalUpdateInstall -int 1\n",
    "### Reset to default value\n",
    "defaults delete com.apple.SoftwareUpdate CriticalUpdateInstall"
   ]
  },
  {
   "cell_type": "markdown",
   "metadata": {},
   "source": [
    "***Automatically download apps purchased on other Macs***"
   ]
  },
  {
   "cell_type": "code",
   "execution_count": null,
   "metadata": {
    "vscode": {
     "languageId": "shellscript"
    }
   },
   "outputs": [],
   "source": [
    "### Read current value\n",
    "defaults read com.apple.SoftwareUpdate ConfigDataInstall\n",
    "### Set to 1\n",
    "defaults write com.apple.SoftwareUpdate ConfigDataInstall -int 1\n",
    "### Reset to default value\n",
    "defaults delete com.apple.SoftwareUpdate ConfigDataInstall"
   ]
  },
  {
   "cell_type": "markdown",
   "metadata": {},
   "source": [
    "***Turn on app auto-update***"
   ]
  },
  {
   "cell_type": "code",
   "execution_count": null,
   "metadata": {
    "vscode": {
     "languageId": "shellscript"
    }
   },
   "outputs": [],
   "source": [
    "### Read current value\n",
    "defaults read com.apple.commerce AutoUpdate\n",
    "### Set to true\n",
    "defaults write com.apple.commerce AutoUpdate -bool true\n",
    "### Reset to default value\n",
    "defaults delete com.apple.commerce AutoUpdate"
   ]
  },
  {
   "cell_type": "markdown",
   "metadata": {},
   "source": [
    "***Allow the App Store to reboot machine on macOS updates***"
   ]
  },
  {
   "cell_type": "code",
   "execution_count": null,
   "metadata": {
    "vscode": {
     "languageId": "shellscript"
    }
   },
   "outputs": [],
   "source": [
    "### Read current value\n",
    "defaults read com.apple.commerce AutoUpdateRestartRequired\n",
    "### Set to true\n",
    "defaults write com.apple.commerce AutoUpdateRestartRequired -bool true\n",
    "### Reset to default value\n",
    "defaults delete com.apple.commerce AutoUpdateRestartRequired"
   ]
  },
  {
   "cell_type": "markdown",
   "metadata": {},
   "source": [
    "### Photos"
   ]
  },
  {
   "cell_type": "markdown",
   "metadata": {},
   "source": [
    "***Prevent Photos from opening automatically when devices are plugged in***"
   ]
  },
  {
   "cell_type": "code",
   "execution_count": null,
   "metadata": {
    "vscode": {
     "languageId": "shellscript"
    }
   },
   "outputs": [],
   "source": [
    "### Read current value\n",
    "defaults -currentHost read com.apple.ImageCapture disableHotPlug\n",
    "### Set to true\n",
    "defaults -currentHost write com.apple.ImageCapture disableHotPlug -bool true\n",
    "### Reset to default value\n",
    "defaults -currentHost delete com.apple.ImageCapture disableHotPlug"
   ]
  },
  {
   "cell_type": "markdown",
   "metadata": {},
   "source": [
    "### Messages"
   ]
  },
  {
   "cell_type": "markdown",
   "metadata": {},
   "source": [
    "***Disable automatic emoji substitution (i.e. use plain text smileys)***"
   ]
  },
  {
   "cell_type": "code",
   "execution_count": null,
   "metadata": {
    "vscode": {
     "languageId": "shellscript"
    }
   },
   "outputs": [],
   "source": [
    "### Read current value\n",
    "defaults read com.apple.messageshelper.MessageController SOInputLineSettings\n",
    "### Set to false\n",
    "defaults write com.apple.messageshelper.MessageController SOInputLineSettings -dict-add \"automaticEmojiSubstitutionEnablediMessage\" -bool false\n",
    "### Reset to default value\n",
    "defaults delete com.apple.messageshelper.MessageController SOInputLineSettings"
   ]
  },
  {
   "cell_type": "markdown",
   "metadata": {},
   "source": [
    "***Disable smart quotes as it’s annoying for messages that contain code***"
   ]
  },
  {
   "cell_type": "code",
   "execution_count": null,
   "metadata": {
    "vscode": {
     "languageId": "shellscript"
    }
   },
   "outputs": [],
   "source": [
    "### Read current value\n",
    "defaults read com.apple.messageshelper.MessageController SOInputLineSettings\n",
    "### Set to false\n",
    "defaults write com.apple.messageshelper.MessageController SOInputLineSettings -dict-add \"automaticQuoteSubstitutionEnabled\" -bool false\n",
    "### Reset to default value\n",
    "defaults delete com.apple.messageshelper.MessageController SOInputLineSettings"
   ]
  },
  {
   "cell_type": "markdown",
   "metadata": {},
   "source": [
    "***Disable continuous spell checking***"
   ]
  },
  {
   "cell_type": "code",
   "execution_count": null,
   "metadata": {
    "vscode": {
     "languageId": "shellscript"
    }
   },
   "outputs": [],
   "source": [
    "### Read current value\n",
    "defaults read com.apple.messageshelper.MessageController SOInputLineSettings\n",
    "### Set to false\n",
    "defaults write com.apple.messageshelper.MessageController SOInputLineSettings -dict-add \"continuousSpellCheckingEnabled\" -bool false\n",
    "### Reset to default value\n",
    "defaults delete com.apple.messageshelper.MessageController SOInputLineSettings"
   ]
  },
  {
   "cell_type": "markdown",
   "metadata": {},
   "source": [
    "### Google Chrome & Google Chrome Canary"
   ]
  },
  {
   "cell_type": "markdown",
   "metadata": {},
   "source": [
    "***Disable the all too sensitive backswipe on trackpads***"
   ]
  },
  {
   "cell_type": "code",
   "execution_count": null,
   "metadata": {
    "vscode": {
     "languageId": "shellscript"
    }
   },
   "outputs": [],
   "source": [
    "### Read current value\n",
    "defaults read com.google.Chrome AppleEnableSwipeNavigateWithScrolls\n",
    "defaults read com.google.Chrome.canary AppleEnableSwipeNavigateWithScrolls\n",
    "### Set to false\n",
    "defaults write com.google.Chrome AppleEnableSwipeNavigateWithScrolls -bool false\n",
    "defaults write com.google.Chrome.canary AppleEnableSwipeNavigateWithScrolls -bool false\n",
    "### Reset to default value\n",
    "defaults delete com.google.Chrome AppleEnableSwipeNavigateWithScrolls\n",
    "defaults delete com.google.Chrome.canary AppleEnableSwipeNavigateWithScrolls"
   ]
  },
  {
   "cell_type": "markdown",
   "metadata": {},
   "source": [
    "***Disable the all too sensitive backswipe on Magic Mouse***"
   ]
  },
  {
   "cell_type": "code",
   "execution_count": null,
   "metadata": {
    "vscode": {
     "languageId": "shellscript"
    }
   },
   "outputs": [],
   "source": [
    "### Read current value\n",
    "defaults read com.google.Chrome AppleEnableMouseSwipeNavigateWithScrolls\n",
    "defaults read com.google.Chrome.canary AppleEnableMouseSwipeNavigateWithScrolls\n",
    "### Set to false\n",
    "defaults write com.google.Chrome AppleEnableMouseSwipeNavigateWithScrolls -bool false\n",
    "defaults write com.google.Chrome.canary AppleEnableMouseSwipeNavigateWithScrolls -bool false\n",
    "### Reset to default value\n",
    "defaults delete com.google.Chrome AppleEnableMouseSwipeNavigateWithScrolls\n",
    "defaults delete com.google.Chrome.canary AppleEnableMouseSwipeNavigateWithScrolls"
   ]
  },
  {
   "cell_type": "markdown",
   "metadata": {},
   "source": [
    "***Use the system-native print preview dialog***"
   ]
  },
  {
   "cell_type": "code",
   "execution_count": null,
   "metadata": {
    "vscode": {
     "languageId": "shellscript"
    }
   },
   "outputs": [],
   "source": [
    "### Read current value\n",
    "defaults read com.google.Chrome DisablePrintPreview\n",
    "defaults read com.google.Chrome.canary DisablePrintPreview\n",
    "### Set to true\n",
    "defaults write com.google.Chrome DisablePrintPreview -bool true\n",
    "defaults write com.google.Chrome.canary DisablePrintPreview -bool true\n",
    "### Reset to default value\n",
    "defaults delete com.google.Chrome DisablePrintPreview\n",
    "defaults delete com.google.Chrome.canary DisablePrintPreview"
   ]
  },
  {
   "cell_type": "markdown",
   "metadata": {},
   "source": [
    "***Expand the print dialog by default***"
   ]
  },
  {
   "cell_type": "code",
   "execution_count": null,
   "metadata": {
    "vscode": {
     "languageId": "shellscript"
    }
   },
   "outputs": [],
   "source": [
    "### Read current value\n",
    "defaults read com.google.Chrome PMPrintingExpandedStateForPrint2\n",
    "defaults read com.google.Chrome.canary PMPrintingExpandedStateForPrint2\n",
    "### Set to true\n",
    "defaults write com.google.Chrome PMPrintingExpandedStateForPrint2 -bool true\n",
    "defaults write com.google.Chrome.canary PMPrintingExpandedStateForPrint2 -bool true\n",
    "### Reset to default value\n",
    "defaults delete com.google.Chrome PMPrintingExpandedStateForPrint2\n",
    "defaults delete com.google.Chrome.canary PMPrintingExpandedStateForPrint2"
   ]
  },
  {
   "cell_type": "markdown",
   "metadata": {},
   "source": [
    "### GPGMail 2 "
   ]
  },
  {
   "cell_type": "markdown",
   "metadata": {},
   "source": [
    "***Disable signing emails by default***\n"
   ]
  },
  {
   "cell_type": "code",
   "execution_count": null,
   "metadata": {
    "vscode": {
     "languageId": "shellscript"
    }
   },
   "outputs": [],
   "source": [
    "### Read current value\n",
    "defaults read ~/Library/Preferences/org.gpgtools.gpgmail SignNewEmailsByDefault\n",
    "### Set to false\n",
    "defaults write ~/Library/Preferences/org.gpgtools.gpgmail SignNewEmailsByDefault -bool false\n",
    "### Reset to default value\n",
    "defaults delete ~/Library/Preferences/org.gpgtools.gpgmail SignNewEmailsByDefault"
   ]
  }
 ],
 "metadata": {
  "kernelspec": {
   "display_name": "Bash",
   "language": "bash",
   "name": "bash"
  },
  "language_info": {
   "codemirror_mode": "shell",
   "file_extension": ".sh",
   "mimetype": "text/x-sh",
   "name": "bash"
  },
  "orig_nbformat": 4
 },
 "nbformat": 4,
 "nbformat_minor": 2
}
